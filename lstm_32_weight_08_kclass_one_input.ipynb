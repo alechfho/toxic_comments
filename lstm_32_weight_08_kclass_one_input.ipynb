{
 "cells": [
  {
   "cell_type": "code",
   "execution_count": 1,
   "metadata": {},
   "outputs": [
    {
     "name": "stderr",
     "output_type": "stream",
     "text": [
      "Using TensorFlow backend.\n"
     ]
    }
   ],
   "source": [
    "import numpy as np\n",
    "import pandas as pd\n",
    "from tqdm import tqdm\n",
    "import math\n",
    "\n",
    "from keras.preprocessing.text import *\n",
    "from keras.preprocessing.sequence import skipgrams, pad_sequences\n",
    "\n",
    "from keras.models import Sequential\n",
    "import keras.layers as layers\n",
    "import keras.models as models\n",
    "from keras.layers import Dense, Activation, Embedding, Flatten\n",
    "from keras.metrics import categorical_accuracy, binary_accuracy\n",
    "from keras.layers import Bidirectional, LSTM, GRU, Dense\n",
    "\n",
    "import keras.backend as K\n",
    "import tensorflow as tf\n"
   ]
  },
  {
   "cell_type": "code",
   "execution_count": 2,
   "metadata": {},
   "outputs": [
    {
     "data": {
      "text/html": [
       "<div>\n",
       "<style>\n",
       "    .dataframe thead tr:only-child th {\n",
       "        text-align: right;\n",
       "    }\n",
       "\n",
       "    .dataframe thead th {\n",
       "        text-align: left;\n",
       "    }\n",
       "\n",
       "    .dataframe tbody tr th {\n",
       "        vertical-align: top;\n",
       "    }\n",
       "</style>\n",
       "<table border=\"1\" class=\"dataframe\">\n",
       "  <thead>\n",
       "    <tr style=\"text-align: right;\">\n",
       "      <th></th>\n",
       "      <th>id</th>\n",
       "      <th>comment_text</th>\n",
       "      <th>toxic</th>\n",
       "      <th>severe_toxic</th>\n",
       "      <th>obscene</th>\n",
       "      <th>threat</th>\n",
       "      <th>insult</th>\n",
       "      <th>identity_hate</th>\n",
       "    </tr>\n",
       "  </thead>\n",
       "  <tbody>\n",
       "    <tr>\n",
       "      <th>0</th>\n",
       "      <td>0000997932d777bf</td>\n",
       "      <td>Explanation\\nWhy the edits made under my usern...</td>\n",
       "      <td>0</td>\n",
       "      <td>0</td>\n",
       "      <td>0</td>\n",
       "      <td>0</td>\n",
       "      <td>0</td>\n",
       "      <td>0</td>\n",
       "    </tr>\n",
       "    <tr>\n",
       "      <th>1</th>\n",
       "      <td>000103f0d9cfb60f</td>\n",
       "      <td>D'aww! He matches this background colour I'm s...</td>\n",
       "      <td>0</td>\n",
       "      <td>0</td>\n",
       "      <td>0</td>\n",
       "      <td>0</td>\n",
       "      <td>0</td>\n",
       "      <td>0</td>\n",
       "    </tr>\n",
       "    <tr>\n",
       "      <th>2</th>\n",
       "      <td>000113f07ec002fd</td>\n",
       "      <td>Hey man, I'm really not trying to edit war. It...</td>\n",
       "      <td>0</td>\n",
       "      <td>0</td>\n",
       "      <td>0</td>\n",
       "      <td>0</td>\n",
       "      <td>0</td>\n",
       "      <td>0</td>\n",
       "    </tr>\n",
       "    <tr>\n",
       "      <th>3</th>\n",
       "      <td>0001b41b1c6bb37e</td>\n",
       "      <td>\"\\nMore\\nI can't make any real suggestions on ...</td>\n",
       "      <td>0</td>\n",
       "      <td>0</td>\n",
       "      <td>0</td>\n",
       "      <td>0</td>\n",
       "      <td>0</td>\n",
       "      <td>0</td>\n",
       "    </tr>\n",
       "    <tr>\n",
       "      <th>4</th>\n",
       "      <td>0001d958c54c6e35</td>\n",
       "      <td>You, sir, are my hero. Any chance you remember...</td>\n",
       "      <td>0</td>\n",
       "      <td>0</td>\n",
       "      <td>0</td>\n",
       "      <td>0</td>\n",
       "      <td>0</td>\n",
       "      <td>0</td>\n",
       "    </tr>\n",
       "  </tbody>\n",
       "</table>\n",
       "</div>"
      ],
      "text/plain": [
       "                 id                                       comment_text  toxic  \\\n",
       "0  0000997932d777bf  Explanation\\nWhy the edits made under my usern...      0   \n",
       "1  000103f0d9cfb60f  D'aww! He matches this background colour I'm s...      0   \n",
       "2  000113f07ec002fd  Hey man, I'm really not trying to edit war. It...      0   \n",
       "3  0001b41b1c6bb37e  \"\\nMore\\nI can't make any real suggestions on ...      0   \n",
       "4  0001d958c54c6e35  You, sir, are my hero. Any chance you remember...      0   \n",
       "\n",
       "   severe_toxic  obscene  threat  insult  identity_hate  \n",
       "0             0        0       0       0              0  \n",
       "1             0        0       0       0              0  \n",
       "2             0        0       0       0              0  \n",
       "3             0        0       0       0              0  \n",
       "4             0        0       0       0              0  "
      ]
     },
     "metadata": {},
     "output_type": "display_data"
    },
    {
     "data": {
      "text/plain": [
       "'total m = 159571'"
      ]
     },
     "metadata": {},
     "output_type": "display_data"
    }
   ],
   "source": [
    "categories = ['toxic', 'severe_toxic', 'obscene', 'threat', 'insult', 'identity_hate']\n",
    "\n",
    "df_train = pd.read_csv('input/train.csv')\n",
    "\n",
    "x_train = df_train['comment_text']\n",
    "y_train = df_train[categories].as_matrix()\n",
    "\n",
    "display(df_train.head())\n",
    "m = x_train.shape[0]\n",
    "display(f'total m = {m}')"
   ]
  },
  {
   "cell_type": "code",
   "execution_count": 3,
   "metadata": {
    "collapsed": true
   },
   "outputs": [],
   "source": [
    "max_len = 350\n",
    "epochs = 6\n",
    "one_weight = 0.9\n"
   ]
  },
  {
   "cell_type": "code",
   "execution_count": 4,
   "metadata": {
    "collapsed": true
   },
   "outputs": [],
   "source": [
    "embedding_index = {}\n",
    "\n",
    "f = open('input/glove.6B.300d.txt')\n",
    "for line in f:\n",
    "    values = line.split()\n",
    "    w = values[0]\n",
    "    weights = np.asarray(values[1:], dtype='float32')\n",
    "    embedding_index[w] = weights\n",
    "f.close()"
   ]
  },
  {
   "cell_type": "code",
   "execution_count": 5,
   "metadata": {},
   "outputs": [
    {
     "name": "stdout",
     "output_type": "stream",
     "text": [
      "max length 1403\n",
      "min length 1\n"
     ]
    }
   ],
   "source": [
    "tokenizer = Tokenizer(lower=True)\n",
    "tokenizer.fit_on_texts(texts=x_train)\n",
    "\n",
    "vocabulary_size = len(tokenizer.word_index)\n",
    "sequences = tokenizer.texts_to_sequences(texts=x_train)\n",
    "\n",
    "max_seq_len = 0\n",
    "for sequence in sequences:\n",
    "    max_seq_len = max(max_seq_len, len(sequence))\n",
    "\n",
    "print('max length {}'.format(max_seq_len))\n",
    "\n",
    "min_seq_len = max_seq_len\n",
    "for sequence in sequences:\n",
    "    min_seq_len = min(min_seq_len, len(sequence))\n",
    "    \n",
    "print('min length {}'.format(min_seq_len))"
   ]
  },
  {
   "cell_type": "code",
   "execution_count": 6,
   "metadata": {},
   "outputs": [
    {
     "data": {
      "text/plain": [
       "68.221569082101382"
      ]
     },
     "execution_count": 6,
     "metadata": {},
     "output_type": "execute_result"
    }
   ],
   "source": [
    "np.mean([len(x) for x in sequences])\n"
   ]
  },
  {
   "cell_type": "code",
   "execution_count": 7,
   "metadata": {
    "collapsed": true
   },
   "outputs": [],
   "source": [
    "embedding_dim = 300\n",
    "\n",
    "embedding_matrix = np.zeros((vocabulary_size + 1, embedding_dim))\n",
    "for word, i in tokenizer.word_index.items():\n",
    "    embedding_vector = embedding_index.get(word)\n",
    "    if embedding_vector is not None:\n",
    "        embedding_matrix[i] = embedding_vector"
   ]
  },
  {
   "cell_type": "code",
   "execution_count": 8,
   "metadata": {},
   "outputs": [
    {
     "name": "stdout",
     "output_type": "stream",
     "text": [
      "[2.2396678539649777, 4.500254712350204, 2.8330803574163035, 5.705272995077692, 2.903181327865824, 4.627091145801302]\n"
     ]
    }
   ],
   "source": [
    "def init_weighted_binary_crossentropy(one_weights, i):\n",
    "\n",
    "    def weight_binary_crossentropy(y_true, y_pred):\n",
    "        y_pred = K.clip(y_pred, K.epsilon(), (1.0 - K.epsilon()))\n",
    "        \n",
    "        o_terms = tf.multiply(tf.multiply(y_true, tf.log(y_pred)), one_weights[i])\n",
    "        z_terms = tf.multiply(tf.subtract(1.0, y_true), tf.log(tf.subtract(1.0, y_pred)))\n",
    "\n",
    "        terms = tf.add(o_terms, z_terms)\n",
    "        terms = tf.negative(K.mean(terms))\n",
    "\n",
    "        return K.mean(terms)\n",
    "    \n",
    "    return weight_binary_crossentropy\n",
    "\n",
    "c_count = [15294, 1595, 8449, 478, 7877, 1405]\n",
    "o_weights = [max(1.0, math.log(one_weight * m / float(c))) for c in c_count]\n",
    "print(o_weights)\n",
    "\n",
    "embedding = Embedding(vocabulary_size + 1, embedding_dim, weights=[embedding_matrix], trainable=False)\n",
    "\n",
    "inputs = layers.Input(shape=(max_len,), name='input')\n",
    "outputs = [embedding(inputs) for i in range(len(categories))]\n",
    "outputs = [layers.Bidirectional(layers.LSTM(16, name=c))(output) for output, c in zip(outputs, categories)]\n",
    "outputs = [layers.Dense(6, activation='relu', name='dense1_{}'.format(c))(output) for output, c in zip(outputs, categories)]\n",
    "outputs = [layers.Dense(1, activation='sigmoid', name='out_{}'.format(c))(output) for output, c in zip(outputs, categories)]\n",
    "loss = [init_weighted_binary_crossentropy(o_weights, i) for i in range(len(categories))]\n",
    "\n",
    "input_model = models.Model(inputs=inputs, outputs=outputs)\n",
    "input_model.compile(optimizer='adam', loss=loss, metrics=[binary_accuracy])"
   ]
  },
  {
   "cell_type": "code",
   "execution_count": 9,
   "metadata": {
    "collapsed": true
   },
   "outputs": [],
   "source": [
    "batch_size = 1024\n",
    "\n",
    "def inputs():\n",
    "    padded_sequences = pad_sequences(sequences=sequences, maxlen=max_len, padding='post')\n",
    "    x_list = []\n",
    "    y_list = []\n",
    "    for sequence, y_train_val in zip(padded_sequences, y_train):\n",
    "        x_list.append(sequence)\n",
    "        y_list.append(y_train_val)\n",
    "    return np.array(x_list), np.array(y_list)\n",
    "\n",
    "x, y = inputs()"
   ]
  },
  {
   "cell_type": "code",
   "execution_count": 10,
   "metadata": {},
   "outputs": [
    {
     "data": {
      "image/svg+xml": [
       "<svg height=\"337pt\" viewBox=\"0.00 0.00 1801.76 337.00\" width=\"1802pt\" xmlns=\"http://www.w3.org/2000/svg\" xmlns:xlink=\"http://www.w3.org/1999/xlink\">\n",
       "<g class=\"graph\" id=\"graph0\" transform=\"scale(1 1) rotate(0) translate(4 333)\">\n",
       "<title>G</title>\n",
       "<polygon fill=\"#ffffff\" points=\"-4,4 -4,-333 1797.7631,-333 1797.7631,4 -4,4\" stroke=\"transparent\"/>\n",
       "<!-- 4902613736 -->\n",
       "<g class=\"node\" id=\"node1\">\n",
       "<title>4902613736</title>\n",
       "<polygon fill=\"none\" points=\"840.4236,-292.5 840.4236,-328.5 954.789,-328.5 954.789,-292.5 840.4236,-292.5\" stroke=\"#000000\"/>\n",
       "<text fill=\"#000000\" font-family=\"Times,serif\" font-size=\"14.00\" text-anchor=\"middle\" x=\"897.6063\" y=\"-306.3\">input: InputLayer</text>\n",
       "</g>\n",
       "<!-- 4902615192 -->\n",
       "<g class=\"node\" id=\"node2\">\n",
       "<title>4902615192</title>\n",
       "<polygon fill=\"none\" points=\"815.5316,-219.5 815.5316,-255.5 979.681,-255.5 979.681,-219.5 815.5316,-219.5\" stroke=\"#000000\"/>\n",
       "<text fill=\"#000000\" font-family=\"Times,serif\" font-size=\"14.00\" text-anchor=\"middle\" x=\"897.6063\" y=\"-233.3\">embedding_1: Embedding</text>\n",
       "</g>\n",
       "<!-- 4902613736&#45;&gt;4902615192 -->\n",
       "<g class=\"edge\" id=\"edge1\">\n",
       "<title>4902613736-&gt;4902615192</title>\n",
       "<path d=\"M897.6063,-292.4551C897.6063,-284.3828 897.6063,-274.6764 897.6063,-265.6817\" fill=\"none\" stroke=\"#000000\"/>\n",
       "<polygon fill=\"#000000\" points=\"901.1064,-265.5903 897.6063,-255.5904 894.1064,-265.5904 901.1064,-265.5903\" stroke=\"#000000\"/>\n",
       "</g>\n",
       "<!-- 4902690768 -->\n",
       "<g class=\"node\" id=\"node3\">\n",
       "<title>4902690768</title>\n",
       "<polygon fill=\"none\" points=\"0,-146.5 0,-182.5 265.2126,-182.5 265.2126,-146.5 0,-146.5\" stroke=\"#000000\"/>\n",
       "<text fill=\"#000000\" font-family=\"Times,serif\" font-size=\"14.00\" text-anchor=\"middle\" x=\"132.6063\" y=\"-160.3\">bidirectional_1(toxic): Bidirectional(LSTM)</text>\n",
       "</g>\n",
       "<!-- 4902615192&#45;&gt;4902690768 -->\n",
       "<g class=\"edge\" id=\"edge7\">\n",
       "<title>4902615192-&gt;4902690768</title>\n",
       "<path d=\"M815.3617,-231.4192C698.0364,-222.496 475.6202,-204.6608 275.3612,-183.0568\" fill=\"none\" stroke=\"#000000\"/>\n",
       "<polygon fill=\"#000000\" points=\"275.5575,-179.5576 265.2385,-181.9594 274.803,-186.5168 275.5575,-179.5576\" stroke=\"#000000\"/>\n",
       "</g>\n",
       "<!-- 4929615688 -->\n",
       "<g class=\"node\" id=\"node4\">\n",
       "<title>4929615688</title>\n",
       "<polygon fill=\"none\" points=\"283.6255,-146.5 283.6255,-182.5 591.5871,-182.5 591.5871,-146.5 283.6255,-146.5\" stroke=\"#000000\"/>\n",
       "<text fill=\"#000000\" font-family=\"Times,serif\" font-size=\"14.00\" text-anchor=\"middle\" x=\"437.6063\" y=\"-160.3\">bidirectional_2(severe_toxic): Bidirectional(LSTM)</text>\n",
       "</g>\n",
       "<!-- 4902615192&#45;&gt;4929615688 -->\n",
       "<g class=\"edge\" id=\"edge8\">\n",
       "<title>4902615192-&gt;4929615688</title>\n",
       "<path d=\"M815.3675,-224.4491C744.7379,-213.2405 641.8698,-196.9157 561.3076,-184.1309\" fill=\"none\" stroke=\"#000000\"/>\n",
       "<polygon fill=\"#000000\" points=\"561.5224,-180.6212 551.0974,-182.5105 560.4252,-187.5347 561.5224,-180.6212\" stroke=\"#000000\"/>\n",
       "</g>\n",
       "<!-- 4933430408 -->\n",
       "<g class=\"node\" id=\"node5\">\n",
       "<title>4933430408</title>\n",
       "<polygon fill=\"none\" points=\"609.4537,-146.5 609.4537,-182.5 891.7589,-182.5 891.7589,-146.5 609.4537,-146.5\" stroke=\"#000000\"/>\n",
       "<text fill=\"#000000\" font-family=\"Times,serif\" font-size=\"14.00\" text-anchor=\"middle\" x=\"750.6063\" y=\"-160.3\">bidirectional_3(obscene): Bidirectional(LSTM)</text>\n",
       "</g>\n",
       "<!-- 4902615192&#45;&gt;4933430408 -->\n",
       "<g class=\"edge\" id=\"edge9\">\n",
       "<title>4902615192-&gt;4933430408</title>\n",
       "<path d=\"M861.2692,-219.4551C841.5688,-209.6719 817.0347,-197.4883 796.0768,-187.0806\" fill=\"none\" stroke=\"#000000\"/>\n",
       "<polygon fill=\"#000000\" points=\"797.548,-183.9034 787.0348,-182.5904 794.4345,-190.1729 797.548,-183.9034\" stroke=\"#000000\"/>\n",
       "</g>\n",
       "<!-- 5598391544 -->\n",
       "<g class=\"node\" id=\"node6\">\n",
       "<title>5598391544</title>\n",
       "<polygon fill=\"none\" points=\"910.0624,-146.5 910.0624,-182.5 1179.1502,-182.5 1179.1502,-146.5 910.0624,-146.5\" stroke=\"#000000\"/>\n",
       "<text fill=\"#000000\" font-family=\"Times,serif\" font-size=\"14.00\" text-anchor=\"middle\" x=\"1044.6063\" y=\"-160.3\">bidirectional_4(threat): Bidirectional(LSTM)</text>\n",
       "</g>\n",
       "<!-- 4902615192&#45;&gt;5598391544 -->\n",
       "<g class=\"edge\" id=\"edge10\">\n",
       "<title>4902615192-&gt;5598391544</title>\n",
       "<path d=\"M933.9434,-219.4551C953.6438,-209.6719 978.1779,-197.4883 999.1358,-187.0806\" fill=\"none\" stroke=\"#000000\"/>\n",
       "<polygon fill=\"#000000\" points=\"1000.7781,-190.1729 1008.1778,-182.5904 997.6646,-183.9034 1000.7781,-190.1729\" stroke=\"#000000\"/>\n",
       "</g>\n",
       "<!-- 5602207560 -->\n",
       "<g class=\"node\" id=\"node7\">\n",
       "<title>5602207560</title>\n",
       "<polygon fill=\"none\" points=\"1197.4397,-146.5 1197.4397,-182.5 1465.7729,-182.5 1465.7729,-146.5 1197.4397,-146.5\" stroke=\"#000000\"/>\n",
       "<text fill=\"#000000\" font-family=\"Times,serif\" font-size=\"14.00\" text-anchor=\"middle\" x=\"1331.6063\" y=\"-160.3\">bidirectional_5(insult): Bidirectional(LSTM)</text>\n",
       "</g>\n",
       "<!-- 4902615192&#45;&gt;5602207560 -->\n",
       "<g class=\"edge\" id=\"edge11\">\n",
       "<title>4902615192-&gt;5602207560</title>\n",
       "<path d=\"M979.7486,-223.6834C1046.0708,-212.5279 1140.2379,-196.6887 1214.4673,-184.2031\" fill=\"none\" stroke=\"#000000\"/>\n",
       "<polygon fill=\"#000000\" points=\"1215.0597,-187.6527 1224.3406,-182.5424 1213.8986,-180.7497 1215.0597,-187.6527\" stroke=\"#000000\"/>\n",
       "</g>\n",
       "<!-- 5606026376 -->\n",
       "<g class=\"node\" id=\"node8\">\n",
       "<title>5606026376</title>\n",
       "<polygon fill=\"none\" points=\"1483.4495,-146.5 1483.4495,-182.5 1793.7631,-182.5 1793.7631,-146.5 1483.4495,-146.5\" stroke=\"#000000\"/>\n",
       "<text fill=\"#000000\" font-family=\"Times,serif\" font-size=\"14.00\" text-anchor=\"middle\" x=\"1638.6063\" y=\"-160.3\">bidirectional_6(identity_hate): Bidirectional(LSTM)</text>\n",
       "</g>\n",
       "<!-- 4902615192&#45;&gt;5606026376 -->\n",
       "<g class=\"edge\" id=\"edge12\">\n",
       "<title>4902615192-&gt;5606026376</title>\n",
       "<path d=\"M979.8264,-230.207C1089.7689,-220.349 1291.0226,-201.9331 1473.1973,-183.1372\" fill=\"none\" stroke=\"#000000\"/>\n",
       "<polygon fill=\"#000000\" points=\"1473.6457,-186.6096 1483.2326,-182.0994 1472.9256,-179.6467 1473.6457,-186.6096\" stroke=\"#000000\"/>\n",
       "</g>\n",
       "<!-- 5606875936 -->\n",
       "<g class=\"node\" id=\"node9\">\n",
       "<title>5606875936</title>\n",
       "<polygon fill=\"none\" points=\"66.486,-73.5 66.486,-109.5 198.7266,-109.5 198.7266,-73.5 66.486,-73.5\" stroke=\"#000000\"/>\n",
       "<text fill=\"#000000\" font-family=\"Times,serif\" font-size=\"14.00\" text-anchor=\"middle\" x=\"132.6063\" y=\"-87.3\">dense1_toxic: Dense</text>\n",
       "</g>\n",
       "<!-- 4902690768&#45;&gt;5606875936 -->\n",
       "<g class=\"edge\" id=\"edge13\">\n",
       "<title>4902690768-&gt;5606875936</title>\n",
       "<path d=\"M132.6063,-146.4551C132.6063,-138.3828 132.6063,-128.6764 132.6063,-119.6817\" fill=\"none\" stroke=\"#000000\"/>\n",
       "<polygon fill=\"#000000\" points=\"136.1064,-119.5903 132.6063,-109.5904 129.1064,-119.5904 136.1064,-119.5903\" stroke=\"#000000\"/>\n",
       "</g>\n",
       "<!-- 5609749528 -->\n",
       "<g class=\"node\" id=\"node10\">\n",
       "<title>5609749528</title>\n",
       "<polygon fill=\"none\" points=\"350.1115,-73.5 350.1115,-109.5 525.1011,-109.5 525.1011,-73.5 350.1115,-73.5\" stroke=\"#000000\"/>\n",
       "<text fill=\"#000000\" font-family=\"Times,serif\" font-size=\"14.00\" text-anchor=\"middle\" x=\"437.6063\" y=\"-87.3\">dense1_severe_toxic: Dense</text>\n",
       "</g>\n",
       "<!-- 4929615688&#45;&gt;5609749528 -->\n",
       "<g class=\"edge\" id=\"edge14\">\n",
       "<title>4929615688-&gt;5609749528</title>\n",
       "<path d=\"M437.6063,-146.4551C437.6063,-138.3828 437.6063,-128.6764 437.6063,-119.6817\" fill=\"none\" stroke=\"#000000\"/>\n",
       "<polygon fill=\"#000000\" points=\"441.1064,-119.5903 437.6063,-109.5904 434.1064,-119.5904 441.1064,-119.5903\" stroke=\"#000000\"/>\n",
       "</g>\n",
       "<!-- 5610708776 -->\n",
       "<g class=\"node\" id=\"node11\">\n",
       "<title>5610708776</title>\n",
       "<polygon fill=\"none\" points=\"675.9397,-73.5 675.9397,-109.5 825.2729,-109.5 825.2729,-73.5 675.9397,-73.5\" stroke=\"#000000\"/>\n",
       "<text fill=\"#000000\" font-family=\"Times,serif\" font-size=\"14.00\" text-anchor=\"middle\" x=\"750.6063\" y=\"-87.3\">dense1_obscene: Dense</text>\n",
       "</g>\n",
       "<!-- 4933430408&#45;&gt;5610708776 -->\n",
       "<g class=\"edge\" id=\"edge15\">\n",
       "<title>4933430408-&gt;5610708776</title>\n",
       "<path d=\"M750.6063,-146.4551C750.6063,-138.3828 750.6063,-128.6764 750.6063,-119.6817\" fill=\"none\" stroke=\"#000000\"/>\n",
       "<polygon fill=\"#000000\" points=\"754.1064,-119.5903 750.6063,-109.5904 747.1064,-119.5904 754.1064,-119.5903\" stroke=\"#000000\"/>\n",
       "</g>\n",
       "<!-- 5610783408 -->\n",
       "<g class=\"node\" id=\"node12\">\n",
       "<title>5610783408</title>\n",
       "<polygon fill=\"none\" points=\"976.5484,-73.5 976.5484,-109.5 1112.6642,-109.5 1112.6642,-73.5 976.5484,-73.5\" stroke=\"#000000\"/>\n",
       "<text fill=\"#000000\" font-family=\"Times,serif\" font-size=\"14.00\" text-anchor=\"middle\" x=\"1044.6063\" y=\"-87.3\">dense1_threat: Dense</text>\n",
       "</g>\n",
       "<!-- 5598391544&#45;&gt;5610783408 -->\n",
       "<g class=\"edge\" id=\"edge16\">\n",
       "<title>5598391544-&gt;5610783408</title>\n",
       "<path d=\"M1044.6063,-146.4551C1044.6063,-138.3828 1044.6063,-128.6764 1044.6063,-119.6817\" fill=\"none\" stroke=\"#000000\"/>\n",
       "<polygon fill=\"#000000\" points=\"1048.1064,-119.5903 1044.6063,-109.5904 1041.1064,-119.5904 1048.1064,-119.5903\" stroke=\"#000000\"/>\n",
       "</g>\n",
       "<!-- 5610961832 -->\n",
       "<g class=\"node\" id=\"node13\">\n",
       "<title>5610961832</title>\n",
       "<polygon fill=\"none\" points=\"1263.9257,-73.5 1263.9257,-109.5 1399.2869,-109.5 1399.2869,-73.5 1263.9257,-73.5\" stroke=\"#000000\"/>\n",
       "<text fill=\"#000000\" font-family=\"Times,serif\" font-size=\"14.00\" text-anchor=\"middle\" x=\"1331.6063\" y=\"-87.3\">dense1_insult: Dense</text>\n",
       "</g>\n",
       "<!-- 5602207560&#45;&gt;5610961832 -->\n",
       "<g class=\"edge\" id=\"edge17\">\n",
       "<title>5602207560-&gt;5610961832</title>\n",
       "<path d=\"M1331.6063,-146.4551C1331.6063,-138.3828 1331.6063,-128.6764 1331.6063,-119.6817\" fill=\"none\" stroke=\"#000000\"/>\n",
       "<polygon fill=\"#000000\" points=\"1335.1064,-119.5903 1331.6063,-109.5904 1328.1064,-119.5904 1335.1064,-119.5903\" stroke=\"#000000\"/>\n",
       "</g>\n",
       "<!-- 5611027984 -->\n",
       "<g class=\"node\" id=\"node14\">\n",
       "<title>5611027984</title>\n",
       "<polygon fill=\"none\" points=\"1549.9355,-73.5 1549.9355,-109.5 1727.2771,-109.5 1727.2771,-73.5 1549.9355,-73.5\" stroke=\"#000000\"/>\n",
       "<text fill=\"#000000\" font-family=\"Times,serif\" font-size=\"14.00\" text-anchor=\"middle\" x=\"1638.6063\" y=\"-87.3\">dense1_identity_hate: Dense</text>\n",
       "</g>\n",
       "<!-- 5606026376&#45;&gt;5611027984 -->\n",
       "<g class=\"edge\" id=\"edge18\">\n",
       "<title>5606026376-&gt;5611027984</title>\n",
       "<path d=\"M1638.6063,-146.4551C1638.6063,-138.3828 1638.6063,-128.6764 1638.6063,-119.6817\" fill=\"none\" stroke=\"#000000\"/>\n",
       "<polygon fill=\"#000000\" points=\"1642.1064,-119.5903 1638.6063,-109.5904 1635.1064,-119.5904 1642.1064,-119.5903\" stroke=\"#000000\"/>\n",
       "</g>\n",
       "<!-- 5611124048 -->\n",
       "<g class=\"node\" id=\"node15\">\n",
       "<title>5611124048</title>\n",
       "<polygon fill=\"none\" points=\"76.9776,-.5 76.9776,-36.5 188.235,-36.5 188.235,-.5 76.9776,-.5\" stroke=\"#000000\"/>\n",
       "<text fill=\"#000000\" font-family=\"Times,serif\" font-size=\"14.00\" text-anchor=\"middle\" x=\"132.6063\" y=\"-14.3\">out_toxic: Dense</text>\n",
       "</g>\n",
       "<!-- 5606875936&#45;&gt;5611124048 -->\n",
       "<g class=\"edge\" id=\"edge19\">\n",
       "<title>5606875936-&gt;5611124048</title>\n",
       "<path d=\"M132.6063,-73.4551C132.6063,-65.3828 132.6063,-55.6764 132.6063,-46.6817\" fill=\"none\" stroke=\"#000000\"/>\n",
       "<polygon fill=\"#000000\" points=\"136.1064,-46.5903 132.6063,-36.5904 129.1064,-46.5904 136.1064,-46.5903\" stroke=\"#000000\"/>\n",
       "</g>\n",
       "<!-- 5611306680 -->\n",
       "<g class=\"node\" id=\"node16\">\n",
       "<title>5611306680</title>\n",
       "<polygon fill=\"none\" points=\"360.6031,-.5 360.6031,-36.5 514.6095,-36.5 514.6095,-.5 360.6031,-.5\" stroke=\"#000000\"/>\n",
       "<text fill=\"#000000\" font-family=\"Times,serif\" font-size=\"14.00\" text-anchor=\"middle\" x=\"437.6063\" y=\"-14.3\">out_severe_toxic: Dense</text>\n",
       "</g>\n",
       "<!-- 5609749528&#45;&gt;5611306680 -->\n",
       "<g class=\"edge\" id=\"edge20\">\n",
       "<title>5609749528-&gt;5611306680</title>\n",
       "<path d=\"M437.6063,-73.4551C437.6063,-65.3828 437.6063,-55.6764 437.6063,-46.6817\" fill=\"none\" stroke=\"#000000\"/>\n",
       "<polygon fill=\"#000000\" points=\"441.1064,-46.5903 437.6063,-36.5904 434.1064,-46.5904 441.1064,-46.5903\" stroke=\"#000000\"/>\n",
       "</g>\n",
       "<!-- 5611388600 -->\n",
       "<g class=\"node\" id=\"node17\">\n",
       "<title>5611388600</title>\n",
       "<polygon fill=\"none\" points=\"686.4313,-.5 686.4313,-36.5 814.7813,-36.5 814.7813,-.5 686.4313,-.5\" stroke=\"#000000\"/>\n",
       "<text fill=\"#000000\" font-family=\"Times,serif\" font-size=\"14.00\" text-anchor=\"middle\" x=\"750.6063\" y=\"-14.3\">out_obscene: Dense</text>\n",
       "</g>\n",
       "<!-- 5610708776&#45;&gt;5611388600 -->\n",
       "<g class=\"edge\" id=\"edge21\">\n",
       "<title>5610708776-&gt;5611388600</title>\n",
       "<path d=\"M750.6063,-73.4551C750.6063,-65.3828 750.6063,-55.6764 750.6063,-46.6817\" fill=\"none\" stroke=\"#000000\"/>\n",
       "<polygon fill=\"#000000\" points=\"754.1064,-46.5903 750.6063,-36.5904 747.1064,-46.5904 754.1064,-46.5903\" stroke=\"#000000\"/>\n",
       "</g>\n",
       "<!-- 5611552952 -->\n",
       "<g class=\"node\" id=\"node18\">\n",
       "<title>5611552952</title>\n",
       "<polygon fill=\"none\" points=\"987.04,-.5 987.04,-36.5 1102.1726,-36.5 1102.1726,-.5 987.04,-.5\" stroke=\"#000000\"/>\n",
       "<text fill=\"#000000\" font-family=\"Times,serif\" font-size=\"14.00\" text-anchor=\"middle\" x=\"1044.6063\" y=\"-14.3\">out_threat: Dense</text>\n",
       "</g>\n",
       "<!-- 5610783408&#45;&gt;5611552952 -->\n",
       "<g class=\"edge\" id=\"edge22\">\n",
       "<title>5610783408-&gt;5611552952</title>\n",
       "<path d=\"M1044.6063,-73.4551C1044.6063,-65.3828 1044.6063,-55.6764 1044.6063,-46.6817\" fill=\"none\" stroke=\"#000000\"/>\n",
       "<polygon fill=\"#000000\" points=\"1048.1064,-46.5903 1044.6063,-36.5904 1041.1064,-46.5904 1048.1064,-46.5903\" stroke=\"#000000\"/>\n",
       "</g>\n",
       "<!-- 5611641880 -->\n",
       "<g class=\"node\" id=\"node19\">\n",
       "<title>5611641880</title>\n",
       "<polygon fill=\"none\" points=\"1274.4173,-.5 1274.4173,-36.5 1388.7953,-36.5 1388.7953,-.5 1274.4173,-.5\" stroke=\"#000000\"/>\n",
       "<text fill=\"#000000\" font-family=\"Times,serif\" font-size=\"14.00\" text-anchor=\"middle\" x=\"1331.6063\" y=\"-14.3\">out_insult: Dense</text>\n",
       "</g>\n",
       "<!-- 5610961832&#45;&gt;5611641880 -->\n",
       "<g class=\"edge\" id=\"edge23\">\n",
       "<title>5610961832-&gt;5611641880</title>\n",
       "<path d=\"M1331.6063,-73.4551C1331.6063,-65.3828 1331.6063,-55.6764 1331.6063,-46.6817\" fill=\"none\" stroke=\"#000000\"/>\n",
       "<polygon fill=\"#000000\" points=\"1335.1064,-46.5903 1331.6063,-36.5904 1328.1064,-46.5904 1335.1064,-46.5903\" stroke=\"#000000\"/>\n",
       "</g>\n",
       "<!-- 5611729864 -->\n",
       "<g class=\"node\" id=\"node20\">\n",
       "<title>5611729864</title>\n",
       "<polygon fill=\"none\" points=\"1560.4271,-.5 1560.4271,-36.5 1716.7855,-36.5 1716.7855,-.5 1560.4271,-.5\" stroke=\"#000000\"/>\n",
       "<text fill=\"#000000\" font-family=\"Times,serif\" font-size=\"14.00\" text-anchor=\"middle\" x=\"1638.6063\" y=\"-14.3\">out_identity_hate: Dense</text>\n",
       "</g>\n",
       "<!-- 5611027984&#45;&gt;5611729864 -->\n",
       "<g class=\"edge\" id=\"edge24\">\n",
       "<title>5611027984-&gt;5611729864</title>\n",
       "<path d=\"M1638.6063,-73.4551C1638.6063,-65.3828 1638.6063,-55.6764 1638.6063,-46.6817\" fill=\"none\" stroke=\"#000000\"/>\n",
       "<polygon fill=\"#000000\" points=\"1642.1064,-46.5903 1638.6063,-36.5904 1635.1064,-46.5904 1642.1064,-46.5903\" stroke=\"#000000\"/>\n",
       "</g>\n",
       "</g>\n",
       "</svg>"
      ],
      "text/plain": [
       "<IPython.core.display.SVG object>"
      ]
     },
     "execution_count": 10,
     "metadata": {},
     "output_type": "execute_result"
    }
   ],
   "source": [
    "from IPython.display import SVG\n",
    "from keras.utils.vis_utils import model_to_dot\n",
    "\n",
    "SVG(model_to_dot(input_model).create(prog='dot', format='svg'))"
   ]
  },
  {
   "cell_type": "code",
   "execution_count": 11,
   "metadata": {
    "scrolled": true
   },
   "outputs": [
    {
     "name": "stdout",
     "output_type": "stream",
     "text": [
      "Epoch 1/6\n",
      "159571/159571 [==============================] - 2585s 16ms/step - loss: 1.6635 - out_toxic_loss: 0.3733 - out_severe_toxic_loss: 0.2158 - out_obscene_loss: 0.2878 - out_threat_loss: 0.1417 - out_insult_loss: 0.4052 - out_identity_hate_loss: 0.2397 - out_toxic_binary_accuracy: 0.9215 - out_severe_toxic_binary_accuracy: 0.9876 - out_obscene_binary_accuracy: 0.9470 - out_threat_binary_accuracy: 0.9961 - out_insult_binary_accuracy: 0.9244 - out_identity_hate_binary_accuracy: 0.9704\n",
      "Epoch 2/6\n",
      "159571/159571 [==============================] - 2587s 16ms/step - loss: 0.7660 - out_toxic_loss: 0.2097 - out_severe_toxic_loss: 0.0704 - out_obscene_loss: 0.1355 - out_threat_loss: 0.0788 - out_insult_loss: 0.1690 - out_identity_hate_loss: 0.1026 - out_toxic_binary_accuracy: 0.9465 - out_severe_toxic_binary_accuracy: 0.9860 - out_obscene_binary_accuracy: 0.9709 - out_threat_binary_accuracy: 0.9970 - out_insult_binary_accuracy: 0.9613 - out_identity_hate_binary_accuracy: 0.9888\n",
      "Epoch 3/6\n",
      "159571/159571 [==============================] - 2594s 16ms/step - loss: 0.6434 - out_toxic_loss: 0.1895 - out_severe_toxic_loss: 0.0601 - out_obscene_loss: 0.1194 - out_threat_loss: 0.0561 - out_insult_loss: 0.1452 - out_identity_hate_loss: 0.0730 - out_toxic_binary_accuracy: 0.9515 - out_severe_toxic_binary_accuracy: 0.9854 - out_obscene_binary_accuracy: 0.9738 - out_threat_binary_accuracy: 0.9970 - out_insult_binary_accuracy: 0.9639 - out_identity_hate_binary_accuracy: 0.9858\n",
      "Epoch 4/6\n",
      "159571/159571 [==============================] - 2597s 16ms/step - loss: 0.5888 - out_toxic_loss: 0.1793 - out_severe_toxic_loss: 0.0563 - out_obscene_loss: 0.1104 - out_threat_loss: 0.0420 - out_insult_loss: 0.1362 - out_identity_hate_loss: 0.0646 - out_toxic_binary_accuracy: 0.9535 - out_severe_toxic_binary_accuracy: 0.9854 - out_obscene_binary_accuracy: 0.9750 - out_threat_binary_accuracy: 0.9970 - out_insult_binary_accuracy: 0.9659 - out_identity_hate_binary_accuracy: 0.9875\n",
      "Epoch 5/6\n",
      "159571/159571 [==============================] - 2588s 16ms/step - loss: 0.5550 - out_toxic_loss: 0.1702 - out_severe_toxic_loss: 0.0534 - out_obscene_loss: 0.1035 - out_threat_loss: 0.0345 - out_insult_loss: 0.1339 - out_identity_hate_loss: 0.0595 - out_toxic_binary_accuracy: 0.9551 - out_severe_toxic_binary_accuracy: 0.9859 - out_obscene_binary_accuracy: 0.9767 - out_threat_binary_accuracy: 0.9970 - out_insult_binary_accuracy: 0.9659 - out_identity_hate_binary_accuracy: 0.9877\n",
      "Epoch 6/6\n",
      "159571/159571 [==============================] - 2595s 16ms/step - loss: 0.5362 - out_toxic_loss: 0.1650 - out_severe_toxic_loss: 0.0515 - out_obscene_loss: 0.1001 - out_threat_loss: 0.0334 - out_insult_loss: 0.1309 - out_identity_hate_loss: 0.0554 - out_toxic_binary_accuracy: 0.9563 - out_severe_toxic_binary_accuracy: 0.9857 - out_obscene_binary_accuracy: 0.9775 - out_threat_binary_accuracy: 0.9970 - out_insult_binary_accuracy: 0.9656 - out_identity_hate_binary_accuracy: 0.9882\n",
      "dict_items([('loss', [1.6635099559273985, 0.7659506559593825, 0.64335982375916489, 0.58880439672621832, 0.55495582256978382, 0.53620342806177457]), ('out_toxic_loss', [0.37329174345022736, 0.2096637240528344, 0.18951055895345681, 0.17931496270214828, 0.17016900958233899, 0.16498228958572064]), ('out_severe_toxic_loss', [0.21580775610591732, 0.070447744893750816, 0.060056164415897201, 0.056291684038842452, 0.053433499111261482, 0.05148100766629389]), ('out_obscene_loss', [0.28781938484182851, 0.13549107285085307, 0.11944408855919131, 0.11040968656115586, 0.10349529592109501, 0.10008678139328106]), ('out_threat_loss', [0.14169740311193466, 0.078768393081310381, 0.056132716712605148, 0.041985395878015322, 0.034526990751021391, 0.033376629344605911]), ('out_insult_loss', [0.40515529982059612, 0.1689723438074163, 0.14521040770368143, 0.13624702858003626, 0.13386546997320226, 0.13088373085164715]), ('out_identity_hate_loss', [0.23973837317843366, 0.10260737810040101, 0.073005888711067723, 0.064555640299337511, 0.05946555886123215, 0.05539298920738582]), ('out_toxic_binary_accuracy', [0.921495760664371, 0.94650030403406871, 0.95152001309023249, 0.95351285629303661, 0.95509835737908055, 0.95627651633304955]), ('out_severe_toxic_binary_accuracy', [0.98756666296830731, 0.98597489515709258, 0.98537954888490031, 0.98541714983394768, 0.98589969350739559, 0.98569915597819557]), ('out_obscene_binary_accuracy', [0.94697658088111902, 0.97090950118573593, 0.97384863176835357, 0.9749891896955809, 0.97673762771849915, 0.9774645769827166]), ('out_threat_binary_accuracy', [0.9961208488792811, 0.99699820155943397, 0.99699820155943397, 0.99699820146642482, 0.99701073497914616, 0.99701073497914616]), ('out_insult_binary_accuracy', [0.92435342269319976, 0.96132129256182686, 0.96387814815435369, 0.96591485911616748, 0.96587725841551786, 0.96556391814040243]), ('out_identity_hate_binary_accuracy', [0.97041442356515062, 0.98883882397347178, 0.98582449184948107, 0.98752279561196366, 0.98773586685521786, 0.98820587707010654])])\n"
     ]
    }
   ],
   "source": [
    "hist = input_model.fit(x=[x], y=[y[:,0], y[:,1], y[:,2], y[:,3], y[:,4], y[:,5]], epochs=epochs, batch_size=batch_size, shuffle=True)\n",
    "\n",
    "print(hist.history.items())"
   ]
  },
  {
   "cell_type": "code",
   "execution_count": 12,
   "metadata": {},
   "outputs": [
    {
     "data": {
      "text/plain": [
       "<keras.callbacks.History at 0x14ea172e8>"
      ]
     },
     "execution_count": 12,
     "metadata": {},
     "output_type": "execute_result"
    }
   ],
   "source": [
    "#re-run additional epochs\n",
    "additional_epochs = 0\n",
    "input_model.fit(x=[x], y=[y[:,0], y[:,1], y[:,2], y[:,3], y[:,4], y[:,5]], epochs=additional_epochs, batch_size=batch_size, shuffle=True)\n",
    "\n"
   ]
  },
  {
   "cell_type": "code",
   "execution_count": 13,
   "metadata": {},
   "outputs": [],
   "source": [
    "y_pred = input_model.predict(x=[x[0:1000, :]])"
   ]
  },
  {
   "cell_type": "code",
   "execution_count": 14,
   "metadata": {},
   "outputs": [
    {
     "data": {
      "text/plain": [
       "[0.99688786, 0.87310791, 0.99506867, 0.49682394, 0.97980791, 0.9181394]"
      ]
     },
     "metadata": {},
     "output_type": "display_data"
    },
    {
     "name": "stdout",
     "output_type": "stream",
     "text": [
      "(1000, 6)\n"
     ]
    },
    {
     "data": {
      "text/plain": [
       "array([ 0.57321054,  0.50203705,  0.57216448,  0.28567377,  0.56338954,\n",
       "        0.52793014], dtype=float32)"
      ]
     },
     "metadata": {},
     "output_type": "display_data"
    }
   ],
   "source": [
    "cat_max = [np.max(y_p) for y_p in y_pred]\n",
    "\n",
    "display(cat_max)\n",
    "\n",
    "y_pred_labels = np.zeros((y_pred[0].shape[0], len(categories)))\n",
    "print(y_pred_labels.shape)\n",
    "\n",
    "train_threshold = np.multiply(cat_max, 0.575)\n",
    "display(train_threshold)\n",
    "\n",
    "for threshold, i in zip(train_threshold, range(len(categories))):\n",
    "    y_pred_labels[np.array(y_pred[i] >= threshold).reshape(-1), i] = 1\n",
    "    y_pred_labels[np.array(y_pred[i] < threshold).reshape(-1), i] = 0\n"
   ]
  },
  {
   "cell_type": "code",
   "execution_count": 15,
   "metadata": {},
   "outputs": [
    {
     "data": {
      "text/plain": [
       "array([[ 0.,  0.,  0.,  0.,  0.,  0.],\n",
       "       [ 0.,  0.,  0.,  0.,  0.,  0.],\n",
       "       [ 0.,  0.,  0.,  0.,  0.,  0.],\n",
       "       ..., \n",
       "       [ 0.,  0.,  0.,  0.,  0.,  0.],\n",
       "       [ 0.,  0.,  0.,  0.,  0.,  0.],\n",
       "       [ 0.,  0.,  0.,  0.,  0.,  0.]])"
      ]
     },
     "metadata": {},
     "output_type": "display_data"
    }
   ],
   "source": [
    "display(y_pred_labels)\n",
    "\n"
   ]
  },
  {
   "cell_type": "code",
   "execution_count": 16,
   "metadata": {},
   "outputs": [
    {
     "data": {
      "text/plain": [
       "0.89700000000000002"
      ]
     },
     "execution_count": 16,
     "metadata": {},
     "output_type": "execute_result"
    }
   ],
   "source": [
    "from sklearn.metrics import accuracy_score\n",
    "accuracy_score(y_train[0:1000,:], y_pred_labels)"
   ]
  },
  {
   "cell_type": "code",
   "execution_count": 17,
   "metadata": {},
   "outputs": [
    {
     "name": "stdout",
     "output_type": "stream",
     "text": [
      "(153164,)\n"
     ]
    }
   ],
   "source": [
    "df_test = pd.read_csv('input/test.csv')\n",
    "\n",
    "x_test = df_test['comment_text']\n",
    "\n",
    "print(x_test.shape)"
   ]
  },
  {
   "cell_type": "code",
   "execution_count": 18,
   "metadata": {},
   "outputs": [
    {
     "name": "stdout",
     "output_type": "stream",
     "text": [
      "153164\n"
     ]
    }
   ],
   "source": [
    "sequences_test = tokenizer.texts_to_sequences(x_test)\n",
    "padded_sequences_test = pad_sequences(sequences=sequences_test, maxlen=max_len, padding='post')\n",
    "\n",
    "print(len(padded_sequences_test))"
   ]
  },
  {
   "cell_type": "code",
   "execution_count": 19,
   "metadata": {
    "collapsed": true
   },
   "outputs": [],
   "source": [
    "x_test = [padded_sequences_test]\n",
    "y_test_pred = input_model.predict(x=x_test)"
   ]
  },
  {
   "cell_type": "code",
   "execution_count": 20,
   "metadata": {},
   "outputs": [
    {
     "data": {
      "text/plain": [
       "[0.99860913, 0.97546601, 0.99671078, 0.64208025, 0.9836511, 0.98601252]"
      ]
     },
     "metadata": {},
     "output_type": "display_data"
    }
   ],
   "source": [
    "y_test_pred_labels = np.zeros((y_test_pred[0].shape[0], len(categories)))\n",
    "\n",
    "test_cat_max = [np.max(y_p) for y_p in y_test_pred]\n",
    "\n",
    "display(test_cat_max)\n"
   ]
  },
  {
   "cell_type": "code",
   "execution_count": 21,
   "metadata": {},
   "outputs": [
    {
     "name": "stdout",
     "output_type": "stream",
     "text": [
      "[ 0.49930456  0.48773301  0.49835539  0.32104012  0.49182555  0.49300626]\n"
     ]
    },
    {
     "data": {
      "text/plain": [
       "array([[ 1.,  1.,  1.,  1.,  1.,  1.],\n",
       "       [ 0.,  0.,  0.,  0.,  0.,  0.],\n",
       "       [ 0.,  0.,  0.,  0.,  0.,  0.],\n",
       "       ..., \n",
       "       [ 0.,  0.,  0.,  0.,  0.,  0.],\n",
       "       [ 0.,  0.,  0.,  0.,  0.,  0.],\n",
       "       [ 1.,  0.,  1.,  0.,  1.,  0.]])"
      ]
     },
     "metadata": {},
     "output_type": "display_data"
    }
   ],
   "source": [
    "threshold = np.multiply(test_cat_max, 0.5)\n",
    "\n",
    "print(threshold)\n",
    "\n",
    "for t, i in zip(threshold, range(len(threshold))):\n",
    "    y_test_pred_labels[np.array(y_test_pred[i] >= t).reshape(-1), i] = 1\n",
    "\n",
    "display(y_test_pred_labels)"
   ]
  },
  {
   "cell_type": "code",
   "execution_count": 22,
   "metadata": {},
   "outputs": [
    {
     "name": "stdout",
     "output_type": "stream",
     "text": [
      "(153164, 7)\n"
     ]
    }
   ],
   "source": [
    "df_submission = pd.DataFrame()\n",
    "df_submission['id'] = df_test['id']\n",
    "for c, i in zip(categories, range(len(categories))):\n",
    "    df_submission[c] = y_test_pred_labels[:, i]\n",
    "   \n",
    "print(df_submission.shape)\n",
    "\n",
    "df_submission.to_csv('output/lstm_6_glve_4B_09_350_6e_threshold_050_input_1_submission.csv',index=False)"
   ]
  },
  {
   "cell_type": "code",
   "execution_count": null,
   "metadata": {
    "collapsed": true
   },
   "outputs": [],
   "source": []
  },
  {
   "cell_type": "code",
   "execution_count": null,
   "metadata": {
    "collapsed": true
   },
   "outputs": [],
   "source": []
  }
 ],
 "metadata": {
  "kernelspec": {
   "display_name": "Python 3",
   "language": "python",
   "name": "python3"
  },
  "language_info": {
   "codemirror_mode": {
    "name": "ipython",
    "version": 3
   },
   "file_extension": ".py",
   "mimetype": "text/x-python",
   "name": "python",
   "nbconvert_exporter": "python",
   "pygments_lexer": "ipython3",
   "version": "3.6.4"
  }
 },
 "nbformat": 4,
 "nbformat_minor": 2
}
