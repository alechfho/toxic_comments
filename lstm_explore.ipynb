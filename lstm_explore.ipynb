{
 "cells": [
  {
   "cell_type": "code",
   "execution_count": 1,
   "metadata": {
    "collapsed": true
   },
   "outputs": [],
   "source": [
    "import numpy as np\n",
    "import pandas as pd\n"
   ]
  },
  {
   "cell_type": "code",
   "execution_count": 2,
   "metadata": {},
   "outputs": [
    {
     "data": {
      "text/html": [
       "<div>\n",
       "<style>\n",
       "    .dataframe thead tr:only-child th {\n",
       "        text-align: right;\n",
       "    }\n",
       "\n",
       "    .dataframe thead th {\n",
       "        text-align: left;\n",
       "    }\n",
       "\n",
       "    .dataframe tbody tr th {\n",
       "        vertical-align: top;\n",
       "    }\n",
       "</style>\n",
       "<table border=\"1\" class=\"dataframe\">\n",
       "  <thead>\n",
       "    <tr style=\"text-align: right;\">\n",
       "      <th></th>\n",
       "      <th>id</th>\n",
       "      <th>comment_text</th>\n",
       "      <th>toxic</th>\n",
       "      <th>severe_toxic</th>\n",
       "      <th>obscene</th>\n",
       "      <th>threat</th>\n",
       "      <th>insult</th>\n",
       "      <th>identity_hate</th>\n",
       "    </tr>\n",
       "  </thead>\n",
       "  <tbody>\n",
       "    <tr>\n",
       "      <th>2885</th>\n",
       "      <td>07c7b3ccc7c5f128</td>\n",
       "      <td>ow! someone just blocked me! I don't think I c...</td>\n",
       "      <td>1</td>\n",
       "      <td>0</td>\n",
       "      <td>1</td>\n",
       "      <td>0</td>\n",
       "      <td>0</td>\n",
       "      <td>0</td>\n",
       "    </tr>\n",
       "    <tr>\n",
       "      <th>6586</th>\n",
       "      <td>119399eb6301e601</td>\n",
       "      <td>That was nice and civil wasn't it?</td>\n",
       "      <td>0</td>\n",
       "      <td>0</td>\n",
       "      <td>0</td>\n",
       "      <td>0</td>\n",
       "      <td>0</td>\n",
       "      <td>0</td>\n",
       "    </tr>\n",
       "    <tr>\n",
       "      <th>5007</th>\n",
       "      <td>0d41e1ae1b2dacab</td>\n",
       "      <td>older talk at: /helpfile\\n notes as /notes</td>\n",
       "      <td>0</td>\n",
       "      <td>0</td>\n",
       "      <td>0</td>\n",
       "      <td>0</td>\n",
       "      <td>0</td>\n",
       "      <td>0</td>\n",
       "    </tr>\n",
       "    <tr>\n",
       "      <th>435</th>\n",
       "      <td>011c5f909f6956d2</td>\n",
       "      <td>Perhaps GoodDay you could provide a diff for t...</td>\n",
       "      <td>0</td>\n",
       "      <td>0</td>\n",
       "      <td>0</td>\n",
       "      <td>0</td>\n",
       "      <td>0</td>\n",
       "      <td>0</td>\n",
       "    </tr>\n",
       "    <tr>\n",
       "      <th>4619</th>\n",
       "      <td>0c3f6b56f0aa8355</td>\n",
       "      <td>I agree with everyone (except 202.47.52.206). ...</td>\n",
       "      <td>0</td>\n",
       "      <td>0</td>\n",
       "      <td>0</td>\n",
       "      <td>0</td>\n",
       "      <td>0</td>\n",
       "      <td>0</td>\n",
       "    </tr>\n",
       "  </tbody>\n",
       "</table>\n",
       "</div>"
      ],
      "text/plain": [
       "                    id                                       comment_text  \\\n",
       "2885  07c7b3ccc7c5f128  ow! someone just blocked me! I don't think I c...   \n",
       "6586  119399eb6301e601                 That was nice and civil wasn't it?   \n",
       "5007  0d41e1ae1b2dacab         older talk at: /helpfile\\n notes as /notes   \n",
       "435   011c5f909f6956d2  Perhaps GoodDay you could provide a diff for t...   \n",
       "4619  0c3f6b56f0aa8355  I agree with everyone (except 202.47.52.206). ...   \n",
       "\n",
       "      toxic  severe_toxic  obscene  threat  insult  identity_hate  \n",
       "2885      1             0        1       0       0              0  \n",
       "6586      0             0        0       0       0              0  \n",
       "5007      0             0        0       0       0              0  \n",
       "435       0             0        0       0       0              0  \n",
       "4619      0             0        0       0       0              0  "
      ]
     },
     "metadata": {},
     "output_type": "display_data"
    },
    {
     "data": {
      "text/plain": [
       "'total m = 10130'"
      ]
     },
     "metadata": {},
     "output_type": "display_data"
    }
   ],
   "source": [
    "categories = ['toxic', 'severe_toxic', 'obscene', 'threat', 'insult', 'identity_hate']\n",
    "\n",
    "df_train = pd.read_csv('input/train.csv')\n",
    "\n",
    "df_train = df_train.iloc[0:10000]\n",
    "df_train_toxic = df_train.loc[(df_train['toxic'] == 1)]\n",
    "df_train_toxic = df_train_toxic.iloc[0:100]\n",
    "\n",
    "df_train_severe_toxic = df_train.loc[(df_train['severe_toxic'] == 1)]\n",
    "df_train_severe_toxic = df_train_severe_toxic.iloc[0:30]\n",
    "\n",
    "df_train = pd.concat([df_train, df_train_toxic, df_train_severe_toxic]).sample(frac=1)\n",
    "\n",
    "x_train = df_train['comment_text']\n",
    "y_train = df_train[categories].as_matrix()\n",
    "\n",
    "display(df_train.head())\n",
    "m = x_train.shape[0]\n",
    "display(f'total m = {m}')\n"
   ]
  },
  {
   "cell_type": "code",
   "execution_count": 3,
   "metadata": {},
   "outputs": [
    {
     "name": "stderr",
     "output_type": "stream",
     "text": [
      "Using TensorFlow backend.\n"
     ]
    }
   ],
   "source": [
    "from keras.preprocessing.text import *\n",
    "from keras.preprocessing.sequence import skipgrams, pad_sequences"
   ]
  },
  {
   "cell_type": "code",
   "execution_count": 4,
   "metadata": {
    "collapsed": true
   },
   "outputs": [],
   "source": [
    "tokenizer = Tokenizer(lower=True)"
   ]
  },
  {
   "cell_type": "code",
   "execution_count": 5,
   "metadata": {},
   "outputs": [
    {
     "name": "stdout",
     "output_type": "stream",
     "text": [
      "max length 1403\n"
     ]
    },
    {
     "data": {
      "text/plain": [
       "'vocabulary size 38830'"
      ]
     },
     "metadata": {},
     "output_type": "display_data"
    }
   ],
   "source": [
    "tokenizer.fit_on_texts(texts=x_train)\n",
    "sequences = tokenizer.texts_to_sequences(texts=x_train)\n",
    "\n",
    "max_seq_len = 0\n",
    "for sequence in sequences:\n",
    "    max_seq_len = max(max_seq_len, len(sequence))\n",
    "\n",
    "print('max length {}'.format(max_seq_len))\n",
    "\n",
    "vocabulary_size = len(tokenizer.word_index)\n",
    "\n",
    "display('vocabulary size {}'.format(vocabulary_size))"
   ]
  },
  {
   "cell_type": "code",
   "execution_count": 6,
   "metadata": {},
   "outputs": [],
   "source": [
    "from keras.models import Sequential\n",
    "from keras.layers import Dense, Activation, Embedding, Flatten\n",
    "\n",
    "embedding_dim = 50\n",
    "train_embedding = Embedding(vocabulary_size + 1, embedding_dim, input_length=2, name='embedding')\n",
    "\n",
    "model = Sequential()\n",
    "model.add(train_embedding)\n",
    "model.add(Flatten())\n",
    "model.add(Dense(1, name='dense'))\n",
    "model.add(Activation('sigmoid', name='activation'))\n",
    "    \n",
    "model.compile(optimizer='adam', loss='binary_crossentropy', metrics=['accuracy'])\n"
   ]
  },
  {
   "cell_type": "code",
   "execution_count": 7,
   "metadata": {},
   "outputs": [],
   "source": [
    "from keras.preprocessing.sequence import pad_sequences\n",
    "from keras.utils import to_categorical\n",
    "\n",
    "negative_samples=5\n",
    "\n",
    "def skpgram_generator():\n",
    "    padded_sequences = pad_sequences(sequences=sequences, maxlen=max_seq_len, padding='post')\n",
    "    for sequence in padded_sequences:\n",
    "        skipgram = skipgrams(sequence=sequence, vocabulary_size=vocabulary_size, negative_samples=negative_samples, shuffle=True)\n",
    "        if not skipgram[0]:\n",
    "            skipgram = (np.array(np.zeros((1, 2))), np.array(np.zeros((1, 1))))\n",
    "        x_input = np.array(skipgram[0])\n",
    "        y_input = np.array(skipgram[1])\n",
    "        yield x_input, y_input\n"
   ]
  },
  {
   "cell_type": "code",
   "execution_count": 8,
   "metadata": {},
   "outputs": [
    {
     "name": "stdout",
     "output_type": "stream",
     "text": [
      "Epoch 1/1\n",
      "10130/10130 [==============================] - 243s 24ms/step - loss: 0.2046 - acc: 0.9340\n"
     ]
    },
    {
     "data": {
      "text/plain": [
       "<keras.callbacks.History at 0x109bc6cc0>"
      ]
     },
     "execution_count": 8,
     "metadata": {},
     "output_type": "execute_result"
    }
   ],
   "source": [
    "model.fit_generator(generator=skpgram_generator(), steps_per_epoch=m, epochs=1)\n"
   ]
  },
  {
   "cell_type": "code",
   "execution_count": 10,
   "metadata": {},
   "outputs": [],
   "source": [
    "embedding = Embedding(vocabulary_size + 1, embedding_dim, input_length=max_seq_len, \n",
    "                            weights=train_embedding.get_weights(), trainable=False)\n",
    "\n",
    "from keras.layers import Bidirectional, LSTM, GRU, Dense\n",
    "\n",
    "input_model = Sequential()\n",
    "input_model.add(embedding)\n",
    "input_model.add(GRU(6))\n",
    "input_model.add(Dense(6, activation='sigmoid'))\n",
    "\n",
    "input_model.compile(optimizer='adam', loss='binary_crossentropy', metrics=['accuracy'])\n"
   ]
  },
  {
   "cell_type": "code",
   "execution_count": null,
   "metadata": {
    "scrolled": true
   },
   "outputs": [
    {
     "name": "stdout",
     "output_type": "stream",
     "text": [
      "Epoch 1/2\n",
      "10130/10130 [==============================] - 21406s 2s/step - loss: 0.1638 - acc: 0.9578\n",
      "Epoch 2/2\n",
      " 9115/10130 [=========================>....] - ETA: 43:21 - loss: 0.1573 - acc: 0.9579"
     ]
    }
   ],
   "source": [
    "batch_size = 1024\n",
    "\n",
    "def seq_generator(epochs):\n",
    "    padded_sequences = pad_sequences(sequences=sequences, maxlen=max_seq_len, padding='post')\n",
    "    for i in range(epochs):\n",
    "        for sequence, y_train_val in zip(padded_sequences, y_train):\n",
    "            x_input = np.array(sequence).reshape(1, max_seq_len)\n",
    "            y_input = y_train_val.reshape(1, len(categories))\n",
    "            yield x_input, y_input\n",
    "     \n",
    "hist = input_model.fit_generator(generator=seq_generator(2), steps_per_epoch=m, epochs=2)\n",
    "\n",
    "print(hist.history.items)\n"
   ]
  },
  {
   "cell_type": "code",
   "execution_count": null,
   "metadata": {},
   "outputs": [],
   "source": [
    "def eval_generator():\n",
    "    sequences = tokenizer.texts_to_sequences(df_train['comment_text'])\n",
    "    for sequence in pad_sequences(sequences, maxlen=max_seq_len, padding='post'):\n",
    "        yield np.array(sequence).reshape(1, max_seq_len)\n",
    "\n",
    "evaluation_result = input_model.predict_generator(generator=eval_generator(), steps=df_train.shape[0])"
   ]
  },
  {
   "cell_type": "code",
   "execution_count": null,
   "metadata": {},
   "outputs": [],
   "source": [
    "display(df_train)\n"
   ]
  },
  {
   "cell_type": "code",
   "execution_count": null,
   "metadata": {},
   "outputs": [],
   "source": [
    "display(pd.DataFrame(evaluation_result))"
   ]
  },
  {
   "cell_type": "code",
   "execution_count": null,
   "metadata": {
    "collapsed": true
   },
   "outputs": [],
   "source": []
  }
 ],
 "metadata": {
  "kernelspec": {
   "display_name": "Python 3",
   "language": "python",
   "name": "python3"
  },
  "language_info": {
   "codemirror_mode": {
    "name": "ipython",
    "version": 3
   },
   "file_extension": ".py",
   "mimetype": "text/x-python",
   "name": "python",
   "nbconvert_exporter": "python",
   "pygments_lexer": "ipython3",
   "version": "3.6.3"
  }
 },
 "nbformat": 4,
 "nbformat_minor": 2
}
