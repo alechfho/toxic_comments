{
 "cells": [
  {
   "cell_type": "code",
   "execution_count": 1,
   "metadata": {},
   "outputs": [
    {
     "name": "stderr",
     "output_type": "stream",
     "text": [
      "Using TensorFlow backend.\n"
     ]
    }
   ],
   "source": [
    "import numpy as np\n",
    "import pandas as pd\n",
    "from tqdm import tqdm\n",
    "import math\n",
    "\n",
    "from keras.preprocessing.text import *\n",
    "from keras.preprocessing.sequence import skipgrams, pad_sequences"
   ]
  },
  {
   "cell_type": "code",
   "execution_count": 2,
   "metadata": {},
   "outputs": [
    {
     "data": {
      "text/html": [
       "<div>\n",
       "<style>\n",
       "    .dataframe thead tr:only-child th {\n",
       "        text-align: right;\n",
       "    }\n",
       "\n",
       "    .dataframe thead th {\n",
       "        text-align: left;\n",
       "    }\n",
       "\n",
       "    .dataframe tbody tr th {\n",
       "        vertical-align: top;\n",
       "    }\n",
       "</style>\n",
       "<table border=\"1\" class=\"dataframe\">\n",
       "  <thead>\n",
       "    <tr style=\"text-align: right;\">\n",
       "      <th></th>\n",
       "      <th>id</th>\n",
       "      <th>comment_text</th>\n",
       "      <th>toxic</th>\n",
       "      <th>severe_toxic</th>\n",
       "      <th>obscene</th>\n",
       "      <th>threat</th>\n",
       "      <th>insult</th>\n",
       "      <th>identity_hate</th>\n",
       "    </tr>\n",
       "  </thead>\n",
       "  <tbody>\n",
       "    <tr>\n",
       "      <th>0</th>\n",
       "      <td>0000997932d777bf</td>\n",
       "      <td>Explanation\\nWhy the edits made under my usern...</td>\n",
       "      <td>0</td>\n",
       "      <td>0</td>\n",
       "      <td>0</td>\n",
       "      <td>0</td>\n",
       "      <td>0</td>\n",
       "      <td>0</td>\n",
       "    </tr>\n",
       "    <tr>\n",
       "      <th>1</th>\n",
       "      <td>000103f0d9cfb60f</td>\n",
       "      <td>D'aww! He matches this background colour I'm s...</td>\n",
       "      <td>0</td>\n",
       "      <td>0</td>\n",
       "      <td>0</td>\n",
       "      <td>0</td>\n",
       "      <td>0</td>\n",
       "      <td>0</td>\n",
       "    </tr>\n",
       "    <tr>\n",
       "      <th>2</th>\n",
       "      <td>000113f07ec002fd</td>\n",
       "      <td>Hey man, I'm really not trying to edit war. It...</td>\n",
       "      <td>0</td>\n",
       "      <td>0</td>\n",
       "      <td>0</td>\n",
       "      <td>0</td>\n",
       "      <td>0</td>\n",
       "      <td>0</td>\n",
       "    </tr>\n",
       "    <tr>\n",
       "      <th>3</th>\n",
       "      <td>0001b41b1c6bb37e</td>\n",
       "      <td>\"\\nMore\\nI can't make any real suggestions on ...</td>\n",
       "      <td>0</td>\n",
       "      <td>0</td>\n",
       "      <td>0</td>\n",
       "      <td>0</td>\n",
       "      <td>0</td>\n",
       "      <td>0</td>\n",
       "    </tr>\n",
       "    <tr>\n",
       "      <th>4</th>\n",
       "      <td>0001d958c54c6e35</td>\n",
       "      <td>You, sir, are my hero. Any chance you remember...</td>\n",
       "      <td>0</td>\n",
       "      <td>0</td>\n",
       "      <td>0</td>\n",
       "      <td>0</td>\n",
       "      <td>0</td>\n",
       "      <td>0</td>\n",
       "    </tr>\n",
       "  </tbody>\n",
       "</table>\n",
       "</div>"
      ],
      "text/plain": [
       "                 id                                       comment_text  toxic  \\\n",
       "0  0000997932d777bf  Explanation\\nWhy the edits made under my usern...      0   \n",
       "1  000103f0d9cfb60f  D'aww! He matches this background colour I'm s...      0   \n",
       "2  000113f07ec002fd  Hey man, I'm really not trying to edit war. It...      0   \n",
       "3  0001b41b1c6bb37e  \"\\nMore\\nI can't make any real suggestions on ...      0   \n",
       "4  0001d958c54c6e35  You, sir, are my hero. Any chance you remember...      0   \n",
       "\n",
       "   severe_toxic  obscene  threat  insult  identity_hate  \n",
       "0             0        0       0       0              0  \n",
       "1             0        0       0       0              0  \n",
       "2             0        0       0       0              0  \n",
       "3             0        0       0       0              0  \n",
       "4             0        0       0       0              0  "
      ]
     },
     "metadata": {},
     "output_type": "display_data"
    },
    {
     "data": {
      "text/plain": [
       "'total m = 159571'"
      ]
     },
     "metadata": {},
     "output_type": "display_data"
    }
   ],
   "source": [
    "categories = ['toxic', 'severe_toxic', 'obscene', 'threat', 'insult', 'identity_hate']\n",
    "\n",
    "df_train = pd.read_csv('input/train.csv')\n",
    "\n",
    "x_train = df_train['comment_text']\n",
    "y_train = df_train[categories].as_matrix()\n",
    "\n",
    "display(df_train.head())\n",
    "m = x_train.shape[0]\n",
    "display(f'total m = {m}')"
   ]
  },
  {
   "cell_type": "code",
   "execution_count": 3,
   "metadata": {
    "collapsed": true
   },
   "outputs": [],
   "source": [
    "max_len = 300\n",
    "epochs = 6\n",
    "one_weight = 0.8\n"
   ]
  },
  {
   "cell_type": "code",
   "execution_count": 4,
   "metadata": {
    "collapsed": true
   },
   "outputs": [],
   "source": [
    "embedding_index = {}\n",
    "\n",
    "f = open('input/glove.6B.300d.txt')\n",
    "for line in f:\n",
    "    values = line.split()\n",
    "    w = values[0]\n",
    "    weights = np.asarray(values[1:], dtype='float32')\n",
    "    embedding_index[w] = weights\n",
    "f.close()"
   ]
  },
  {
   "cell_type": "code",
   "execution_count": 5,
   "metadata": {},
   "outputs": [
    {
     "name": "stdout",
     "output_type": "stream",
     "text": [
      "max length 1403\n",
      "min length 1\n"
     ]
    }
   ],
   "source": [
    "tokenizer = Tokenizer(lower=True)\n",
    "tokenizer.fit_on_texts(texts=x_train)\n",
    "\n",
    "vocabulary_size = len(tokenizer.word_index)\n",
    "sequences = tokenizer.texts_to_sequences(texts=x_train)\n",
    "\n",
    "max_seq_len = 0\n",
    "for sequence in sequences:\n",
    "    max_seq_len = max(max_seq_len, len(sequence))\n",
    "\n",
    "print('max length {}'.format(max_seq_len))\n",
    "\n",
    "min_seq_len = max_seq_len\n",
    "for sequence in sequences:\n",
    "    min_seq_len = min(min_seq_len, len(sequence))\n",
    "    \n",
    "print('min length {}'.format(min_seq_len))"
   ]
  },
  {
   "cell_type": "code",
   "execution_count": 6,
   "metadata": {},
   "outputs": [
    {
     "data": {
      "text/plain": [
       "68.221569082101382"
      ]
     },
     "execution_count": 6,
     "metadata": {},
     "output_type": "execute_result"
    }
   ],
   "source": [
    "np.mean([len(x) for x in sequences])\n"
   ]
  },
  {
   "cell_type": "code",
   "execution_count": 7,
   "metadata": {
    "collapsed": true
   },
   "outputs": [],
   "source": [
    "embedding_dim = 300\n",
    "\n",
    "embedding_matrix = np.zeros((vocabulary_size + 1, embedding_dim))\n",
    "for word, i in tokenizer.word_index.items():\n",
    "    embedding_vector = embedding_index.get(word)\n",
    "    if embedding_vector is not None:\n",
    "        embedding_matrix[i] = embedding_vector"
   ]
  },
  {
   "cell_type": "code",
   "execution_count": 8,
   "metadata": {},
   "outputs": [
    {
     "name": "stdout",
     "output_type": "stream",
     "text": [
      "[2.1218848183085943, 4.38247167669382, 2.71529732175992, 5.587489959421309, 2.7853982922094405, 4.509308110144919]\n"
     ]
    }
   ],
   "source": [
    "from keras.models import Sequential\n",
    "import keras.layers as layers\n",
    "import keras.models as models\n",
    "from keras.layers import Dense, Activation, Embedding, Flatten\n",
    "from keras.metrics import categorical_accuracy, binary_accuracy\n",
    "from keras.layers import Bidirectional, LSTM, GRU, Dense\n",
    "\n",
    "\n",
    "import keras.backend as K\n",
    "import tensorflow as tf\n",
    "\n",
    "def init_weighted_binary_crossentropy(one_weights, i):\n",
    "\n",
    "    def weight_binary_crossentropy(y_true, y_pred):\n",
    "        y_pred = K.clip(y_pred, K.epsilon(), (1.0 - K.epsilon()))\n",
    "        \n",
    "        o_terms = tf.multiply(tf.multiply(y_true, tf.log(y_pred)), one_weights[i])\n",
    "        z_terms = tf.multiply(tf.subtract(1.0, y_true), tf.log(tf.subtract(1.0, y_pred)))\n",
    "\n",
    "        terms = tf.add(o_terms, z_terms)\n",
    "        terms = tf.negative(K.mean(terms))\n",
    "\n",
    "        return K.mean(terms)\n",
    "    \n",
    "    return weight_binary_crossentropy\n",
    "\n",
    "c_count = [15294, 1595, 8449, 478, 7877, 1405]\n",
    "o_weights = [max(1.0, math.log(one_weight * m / float(c))) for c in c_count]\n",
    "print(o_weights)\n",
    "\n",
    "embedding = Embedding(vocabulary_size + 1, embedding_dim, weights=[embedding_matrix], trainable=False)\n",
    "\n",
    "inputs = [layers.Input(shape=(max_len,), name=c) for c in categories]\n",
    "outputs = [embedding(i) for i in inputs]\n",
    "outputs = [layers.Bidirectional(layers.LSTM(16, name=c))(output) for output, c in zip(outputs, categories)]\n",
    "outputs = [layers.Dense(6, activation='relu', name='dense1_{}'.format(c))(output) for output, c in zip(outputs, categories)]\n",
    "outputs = [layers.Dense(1, activation='sigmoid', name='out_{}'.format(c))(output) for output, c in zip(outputs, categories)]\n",
    "\n",
    "loss = [init_weighted_binary_crossentropy(o_weights, i) for i in range(len(categories))]\n",
    "\n",
    "input_model = models.Model(inputs=inputs, outputs=outputs)\n",
    "input_model.compile(optimizer='adam', loss=loss, metrics=[binary_accuracy])"
   ]
  },
  {
   "cell_type": "code",
   "execution_count": 9,
   "metadata": {
    "collapsed": true
   },
   "outputs": [],
   "source": [
    "batch_size = 1024\n",
    "\n",
    "def inputs():\n",
    "    padded_sequences = pad_sequences(sequences=sequences, maxlen=max_len, padding='post')\n",
    "    x_list = []\n",
    "    y_list = []\n",
    "    for sequence, y_train_val in zip(padded_sequences, y_train):\n",
    "        x_list.append(sequence)\n",
    "        y_list.append(y_train_val)\n",
    "    return np.array(x_list), np.array(y_list)\n",
    "\n",
    "x, y = inputs()"
   ]
  },
  {
   "cell_type": "code",
   "execution_count": 10,
   "metadata": {},
   "outputs": [
    {
     "data": {
      "image/svg+xml": [
       "<svg height=\"337pt\" viewBox=\"0.00 0.00 1801.76 337.00\" width=\"1802pt\" xmlns=\"http://www.w3.org/2000/svg\" xmlns:xlink=\"http://www.w3.org/1999/xlink\">\n",
       "<g class=\"graph\" id=\"graph0\" transform=\"scale(1 1) rotate(0) translate(4 333)\">\n",
       "<title>G</title>\n",
       "<polygon fill=\"#ffffff\" points=\"-4,4 -4,-333 1797.7631,-333 1797.7631,4 -4,4\" stroke=\"transparent\"/>\n",
       "<!-- 4945742872 -->\n",
       "<g class=\"node\" id=\"node1\">\n",
       "<title>4945742872</title>\n",
       "<polygon fill=\"none\" points=\"454.8163,-292.5 454.8163,-328.5 568.3963,-328.5 568.3963,-292.5 454.8163,-292.5\" stroke=\"#000000\"/>\n",
       "<text fill=\"#000000\" font-family=\"Times,serif\" font-size=\"14.00\" text-anchor=\"middle\" x=\"511.6063\" y=\"-306.3\">toxic: InputLayer</text>\n",
       "</g>\n",
       "<!-- 4945673240 -->\n",
       "<g class=\"node\" id=\"node7\">\n",
       "<title>4945673240</title>\n",
       "<polygon fill=\"none\" points=\"815.5316,-219.5 815.5316,-255.5 979.681,-255.5 979.681,-219.5 815.5316,-219.5\" stroke=\"#000000\"/>\n",
       "<text fill=\"#000000\" font-family=\"Times,serif\" font-size=\"14.00\" text-anchor=\"middle\" x=\"897.6063\" y=\"-233.3\">embedding_1: Embedding</text>\n",
       "</g>\n",
       "<!-- 4945742872&#45;&gt;4945673240 -->\n",
       "<g class=\"edge\" id=\"edge1\">\n",
       "<title>4945742872-&gt;4945673240</title>\n",
       "<path d=\"M568.7508,-294.0877C571.7385,-293.3533 574.7037,-292.6521 577.6063,-292 653.6773,-274.9098 740.9858,-260.3743 805.1685,-250.6237\" fill=\"none\" stroke=\"#000000\"/>\n",
       "<polygon fill=\"#000000\" points=\"805.8998,-254.053 815.2656,-249.1002 804.8553,-247.1314 805.8998,-254.053\" stroke=\"#000000\"/>\n",
       "</g>\n",
       "<!-- 4524182328 -->\n",
       "<g class=\"node\" id=\"node2\">\n",
       "<title>4524182328</title>\n",
       "<polygon fill=\"none\" points=\"586.4418,-292.5 586.4418,-328.5 742.7708,-328.5 742.7708,-292.5 586.4418,-292.5\" stroke=\"#000000\"/>\n",
       "<text fill=\"#000000\" font-family=\"Times,serif\" font-size=\"14.00\" text-anchor=\"middle\" x=\"664.6063\" y=\"-306.3\">severe_toxic: InputLayer</text>\n",
       "</g>\n",
       "<!-- 4524182328&#45;&gt;4945673240 -->\n",
       "<g class=\"edge\" id=\"edge2\">\n",
       "<title>4524182328-&gt;4945673240</title>\n",
       "<path d=\"M722.2018,-292.4551C754.8278,-282.2332 795.8181,-269.3907 829.9675,-258.6916\" fill=\"none\" stroke=\"#000000\"/>\n",
       "<polygon fill=\"#000000\" points=\"831.3697,-261.9201 839.8658,-255.5904 829.2768,-255.2403 831.3697,-261.9201\" stroke=\"#000000\"/>\n",
       "</g>\n",
       "<!-- 4945742088 -->\n",
       "<g class=\"node\" id=\"node3\">\n",
       "<title>4945742088</title>\n",
       "<polygon fill=\"none\" points=\"761.27,-292.5 761.27,-328.5 891.9426,-328.5 891.9426,-292.5 761.27,-292.5\" stroke=\"#000000\"/>\n",
       "<text fill=\"#000000\" font-family=\"Times,serif\" font-size=\"14.00\" text-anchor=\"middle\" x=\"826.6063\" y=\"-306.3\">obscene: InputLayer</text>\n",
       "</g>\n",
       "<!-- 4945742088&#45;&gt;4945673240 -->\n",
       "<g class=\"edge\" id=\"edge3\">\n",
       "<title>4945742088-&gt;4945673240</title>\n",
       "<path d=\"M844.1569,-292.4551C852.8613,-283.5054 863.5195,-272.547 873.0219,-262.7769\" fill=\"none\" stroke=\"#000000\"/>\n",
       "<polygon fill=\"#000000\" points=\"875.5484,-265.1992 880.0116,-255.5904 870.5303,-260.3187 875.5484,-265.1992\" stroke=\"#000000\"/>\n",
       "</g>\n",
       "<!-- 4945741920 -->\n",
       "<g class=\"node\" id=\"node4\">\n",
       "<title>4945741920</title>\n",
       "<polygon fill=\"none\" points=\"909.8787,-292.5 909.8787,-328.5 1027.3339,-328.5 1027.3339,-292.5 909.8787,-292.5\" stroke=\"#000000\"/>\n",
       "<text fill=\"#000000\" font-family=\"Times,serif\" font-size=\"14.00\" text-anchor=\"middle\" x=\"968.6063\" y=\"-306.3\">threat: InputLayer</text>\n",
       "</g>\n",
       "<!-- 4945741920&#45;&gt;4945673240 -->\n",
       "<g class=\"edge\" id=\"edge4\">\n",
       "<title>4945741920-&gt;4945673240</title>\n",
       "<path d=\"M951.0557,-292.4551C942.3513,-283.5054 931.6931,-272.547 922.1907,-262.7769\" fill=\"none\" stroke=\"#000000\"/>\n",
       "<polygon fill=\"#000000\" points=\"924.6823,-260.3187 915.201,-255.5904 919.6642,-265.1992 924.6823,-260.3187\" stroke=\"#000000\"/>\n",
       "</g>\n",
       "<!-- 4945741696 -->\n",
       "<g class=\"node\" id=\"node5\">\n",
       "<title>4945741696</title>\n",
       "<polygon fill=\"none\" points=\"1045.256,-292.5 1045.256,-328.5 1161.9566,-328.5 1161.9566,-292.5 1045.256,-292.5\" stroke=\"#000000\"/>\n",
       "<text fill=\"#000000\" font-family=\"Times,serif\" font-size=\"14.00\" text-anchor=\"middle\" x=\"1103.6063\" y=\"-306.3\">insult: InputLayer</text>\n",
       "</g>\n",
       "<!-- 4945741696&#45;&gt;4945673240 -->\n",
       "<g class=\"edge\" id=\"edge5\">\n",
       "<title>4945741696-&gt;4945673240</title>\n",
       "<path d=\"M1052.6849,-292.4551C1024.0872,-282.3209 988.2209,-269.611 958.1859,-258.9675\" fill=\"none\" stroke=\"#000000\"/>\n",
       "<polygon fill=\"#000000\" points=\"959.2506,-255.6316 948.6558,-255.5904 956.9124,-262.2296 959.2506,-255.6316\" stroke=\"#000000\"/>\n",
       "</g>\n",
       "<!-- 4945742760 -->\n",
       "<g class=\"node\" id=\"node6\">\n",
       "<title>4945742760</title>\n",
       "<polygon fill=\"none\" points=\"1180.2658,-292.5 1180.2658,-328.5 1338.9468,-328.5 1338.9468,-292.5 1180.2658,-292.5\" stroke=\"#000000\"/>\n",
       "<text fill=\"#000000\" font-family=\"Times,serif\" font-size=\"14.00\" text-anchor=\"middle\" x=\"1259.6063\" y=\"-306.3\">identity_hate: InputLayer</text>\n",
       "</g>\n",
       "<!-- 4945742760&#45;&gt;4945673240 -->\n",
       "<g class=\"edge\" id=\"edge6\">\n",
       "<title>4945742760-&gt;4945673240</title>\n",
       "<path d=\"M1180.0363,-293.9277C1176.8518,-293.2747 1173.6991,-292.6301 1170.6063,-292 1110.4326,-279.7399 1042.7389,-266.2241 989.8135,-255.7193\" fill=\"none\" stroke=\"#000000\"/>\n",
       "<polygon fill=\"#000000\" points=\"990.2604,-252.2399 979.7705,-253.7269 988.8982,-259.106 990.2604,-252.2399\" stroke=\"#000000\"/>\n",
       "</g>\n",
       "<!-- 4945739280 -->\n",
       "<g class=\"node\" id=\"node8\">\n",
       "<title>4945739280</title>\n",
       "<polygon fill=\"none\" points=\"0,-146.5 0,-182.5 265.2126,-182.5 265.2126,-146.5 0,-146.5\" stroke=\"#000000\"/>\n",
       "<text fill=\"#000000\" font-family=\"Times,serif\" font-size=\"14.00\" text-anchor=\"middle\" x=\"132.6063\" y=\"-160.3\">bidirectional_1(toxic): Bidirectional(LSTM)</text>\n",
       "</g>\n",
       "<!-- 4945673240&#45;&gt;4945739280 -->\n",
       "<g class=\"edge\" id=\"edge7\">\n",
       "<title>4945673240-&gt;4945739280</title>\n",
       "<path d=\"M815.3617,-231.4192C698.0364,-222.496 475.6202,-204.6608 275.3612,-183.0568\" fill=\"none\" stroke=\"#000000\"/>\n",
       "<polygon fill=\"#000000\" points=\"275.5575,-179.5576 265.2385,-181.9594 274.803,-186.5168 275.5575,-179.5576\" stroke=\"#000000\"/>\n",
       "</g>\n",
       "<!-- 4972828824 -->\n",
       "<g class=\"node\" id=\"node9\">\n",
       "<title>4972828824</title>\n",
       "<polygon fill=\"none\" points=\"283.6255,-146.5 283.6255,-182.5 591.5871,-182.5 591.5871,-146.5 283.6255,-146.5\" stroke=\"#000000\"/>\n",
       "<text fill=\"#000000\" font-family=\"Times,serif\" font-size=\"14.00\" text-anchor=\"middle\" x=\"437.6063\" y=\"-160.3\">bidirectional_2(severe_toxic): Bidirectional(LSTM)</text>\n",
       "</g>\n",
       "<!-- 4945673240&#45;&gt;4972828824 -->\n",
       "<g class=\"edge\" id=\"edge8\">\n",
       "<title>4945673240-&gt;4972828824</title>\n",
       "<path d=\"M815.3675,-224.4491C744.7379,-213.2405 641.8698,-196.9157 561.3076,-184.1309\" fill=\"none\" stroke=\"#000000\"/>\n",
       "<polygon fill=\"#000000\" points=\"561.5224,-180.6212 551.0974,-182.5105 560.4252,-187.5347 561.5224,-180.6212\" stroke=\"#000000\"/>\n",
       "</g>\n",
       "<!-- 4976476112 -->\n",
       "<g class=\"node\" id=\"node10\">\n",
       "<title>4976476112</title>\n",
       "<polygon fill=\"none\" points=\"609.4537,-146.5 609.4537,-182.5 891.7589,-182.5 891.7589,-146.5 609.4537,-146.5\" stroke=\"#000000\"/>\n",
       "<text fill=\"#000000\" font-family=\"Times,serif\" font-size=\"14.00\" text-anchor=\"middle\" x=\"750.6063\" y=\"-160.3\">bidirectional_3(obscene): Bidirectional(LSTM)</text>\n",
       "</g>\n",
       "<!-- 4945673240&#45;&gt;4976476112 -->\n",
       "<g class=\"edge\" id=\"edge9\">\n",
       "<title>4945673240-&gt;4976476112</title>\n",
       "<path d=\"M861.2692,-219.4551C841.5688,-209.6719 817.0347,-197.4883 796.0768,-187.0806\" fill=\"none\" stroke=\"#000000\"/>\n",
       "<polygon fill=\"#000000\" points=\"797.548,-183.9034 787.0348,-182.5904 794.4345,-190.1729 797.548,-183.9034\" stroke=\"#000000\"/>\n",
       "</g>\n",
       "<!-- 5641517936 -->\n",
       "<g class=\"node\" id=\"node11\">\n",
       "<title>5641517936</title>\n",
       "<polygon fill=\"none\" points=\"910.0624,-146.5 910.0624,-182.5 1179.1502,-182.5 1179.1502,-146.5 910.0624,-146.5\" stroke=\"#000000\"/>\n",
       "<text fill=\"#000000\" font-family=\"Times,serif\" font-size=\"14.00\" text-anchor=\"middle\" x=\"1044.6063\" y=\"-160.3\">bidirectional_4(threat): Bidirectional(LSTM)</text>\n",
       "</g>\n",
       "<!-- 4945673240&#45;&gt;5641517936 -->\n",
       "<g class=\"edge\" id=\"edge10\">\n",
       "<title>4945673240-&gt;5641517936</title>\n",
       "<path d=\"M933.9434,-219.4551C953.6438,-209.6719 978.1779,-197.4883 999.1358,-187.0806\" fill=\"none\" stroke=\"#000000\"/>\n",
       "<polygon fill=\"#000000\" points=\"1000.7781,-190.1729 1008.1778,-182.5904 997.6646,-183.9034 1000.7781,-190.1729\" stroke=\"#000000\"/>\n",
       "</g>\n",
       "<!-- 5645346240 -->\n",
       "<g class=\"node\" id=\"node12\">\n",
       "<title>5645346240</title>\n",
       "<polygon fill=\"none\" points=\"1197.4397,-146.5 1197.4397,-182.5 1465.7729,-182.5 1465.7729,-146.5 1197.4397,-146.5\" stroke=\"#000000\"/>\n",
       "<text fill=\"#000000\" font-family=\"Times,serif\" font-size=\"14.00\" text-anchor=\"middle\" x=\"1331.6063\" y=\"-160.3\">bidirectional_5(insult): Bidirectional(LSTM)</text>\n",
       "</g>\n",
       "<!-- 4945673240&#45;&gt;5645346240 -->\n",
       "<g class=\"edge\" id=\"edge11\">\n",
       "<title>4945673240-&gt;5645346240</title>\n",
       "<path d=\"M979.7486,-223.6834C1046.0708,-212.5279 1140.2379,-196.6887 1214.4673,-184.2031\" fill=\"none\" stroke=\"#000000\"/>\n",
       "<polygon fill=\"#000000\" points=\"1215.0597,-187.6527 1224.3406,-182.5424 1213.8986,-180.7497 1215.0597,-187.6527\" stroke=\"#000000\"/>\n",
       "</g>\n",
       "<!-- 5649059232 -->\n",
       "<g class=\"node\" id=\"node13\">\n",
       "<title>5649059232</title>\n",
       "<polygon fill=\"none\" points=\"1483.4495,-146.5 1483.4495,-182.5 1793.7631,-182.5 1793.7631,-146.5 1483.4495,-146.5\" stroke=\"#000000\"/>\n",
       "<text fill=\"#000000\" font-family=\"Times,serif\" font-size=\"14.00\" text-anchor=\"middle\" x=\"1638.6063\" y=\"-160.3\">bidirectional_6(identity_hate): Bidirectional(LSTM)</text>\n",
       "</g>\n",
       "<!-- 4945673240&#45;&gt;5649059232 -->\n",
       "<g class=\"edge\" id=\"edge12\">\n",
       "<title>4945673240-&gt;5649059232</title>\n",
       "<path d=\"M979.8264,-230.207C1089.7689,-220.349 1291.0226,-201.9331 1473.1973,-183.1372\" fill=\"none\" stroke=\"#000000\"/>\n",
       "<polygon fill=\"#000000\" points=\"1473.6457,-186.6096 1483.2326,-182.0994 1472.9256,-179.6467 1473.6457,-186.6096\" stroke=\"#000000\"/>\n",
       "</g>\n",
       "<!-- 5650018712 -->\n",
       "<g class=\"node\" id=\"node14\">\n",
       "<title>5650018712</title>\n",
       "<polygon fill=\"none\" points=\"66.486,-73.5 66.486,-109.5 198.7266,-109.5 198.7266,-73.5 66.486,-73.5\" stroke=\"#000000\"/>\n",
       "<text fill=\"#000000\" font-family=\"Times,serif\" font-size=\"14.00\" text-anchor=\"middle\" x=\"132.6063\" y=\"-87.3\">dense1_toxic: Dense</text>\n",
       "</g>\n",
       "<!-- 4945739280&#45;&gt;5650018712 -->\n",
       "<g class=\"edge\" id=\"edge13\">\n",
       "<title>4945739280-&gt;5650018712</title>\n",
       "<path d=\"M132.6063,-146.4551C132.6063,-138.3828 132.6063,-128.6764 132.6063,-119.6817\" fill=\"none\" stroke=\"#000000\"/>\n",
       "<polygon fill=\"#000000\" points=\"136.1064,-119.5903 132.6063,-109.5904 129.1064,-119.5904 136.1064,-119.5903\" stroke=\"#000000\"/>\n",
       "</g>\n",
       "<!-- 5652878000 -->\n",
       "<g class=\"node\" id=\"node15\">\n",
       "<title>5652878000</title>\n",
       "<polygon fill=\"none\" points=\"350.1115,-73.5 350.1115,-109.5 525.1011,-109.5 525.1011,-73.5 350.1115,-73.5\" stroke=\"#000000\"/>\n",
       "<text fill=\"#000000\" font-family=\"Times,serif\" font-size=\"14.00\" text-anchor=\"middle\" x=\"437.6063\" y=\"-87.3\">dense1_severe_toxic: Dense</text>\n",
       "</g>\n",
       "<!-- 4972828824&#45;&gt;5652878000 -->\n",
       "<g class=\"edge\" id=\"edge14\">\n",
       "<title>4972828824-&gt;5652878000</title>\n",
       "<path d=\"M437.6063,-146.4551C437.6063,-138.3828 437.6063,-128.6764 437.6063,-119.6817\" fill=\"none\" stroke=\"#000000\"/>\n",
       "<polygon fill=\"#000000\" points=\"441.1064,-119.5903 437.6063,-109.5904 434.1064,-119.5904 441.1064,-119.5903\" stroke=\"#000000\"/>\n",
       "</g>\n",
       "<!-- 5653831072 -->\n",
       "<g class=\"node\" id=\"node16\">\n",
       "<title>5653831072</title>\n",
       "<polygon fill=\"none\" points=\"675.9397,-73.5 675.9397,-109.5 825.2729,-109.5 825.2729,-73.5 675.9397,-73.5\" stroke=\"#000000\"/>\n",
       "<text fill=\"#000000\" font-family=\"Times,serif\" font-size=\"14.00\" text-anchor=\"middle\" x=\"750.6063\" y=\"-87.3\">dense1_obscene: Dense</text>\n",
       "</g>\n",
       "<!-- 4976476112&#45;&gt;5653831072 -->\n",
       "<g class=\"edge\" id=\"edge15\">\n",
       "<title>4976476112-&gt;5653831072</title>\n",
       "<path d=\"M750.6063,-146.4551C750.6063,-138.3828 750.6063,-128.6764 750.6063,-119.6817\" fill=\"none\" stroke=\"#000000\"/>\n",
       "<polygon fill=\"#000000\" points=\"754.1064,-119.5903 750.6063,-109.5904 747.1064,-119.5904 754.1064,-119.5903\" stroke=\"#000000\"/>\n",
       "</g>\n",
       "<!-- 5653921744 -->\n",
       "<g class=\"node\" id=\"node17\">\n",
       "<title>5653921744</title>\n",
       "<polygon fill=\"none\" points=\"976.5484,-73.5 976.5484,-109.5 1112.6642,-109.5 1112.6642,-73.5 976.5484,-73.5\" stroke=\"#000000\"/>\n",
       "<text fill=\"#000000\" font-family=\"Times,serif\" font-size=\"14.00\" text-anchor=\"middle\" x=\"1044.6063\" y=\"-87.3\">dense1_threat: Dense</text>\n",
       "</g>\n",
       "<!-- 5641517936&#45;&gt;5653921744 -->\n",
       "<g class=\"edge\" id=\"edge16\">\n",
       "<title>5641517936-&gt;5653921744</title>\n",
       "<path d=\"M1044.6063,-146.4551C1044.6063,-138.3828 1044.6063,-128.6764 1044.6063,-119.6817\" fill=\"none\" stroke=\"#000000\"/>\n",
       "<polygon fill=\"#000000\" points=\"1048.1064,-119.5903 1044.6063,-109.5904 1041.1064,-119.5904 1048.1064,-119.5903\" stroke=\"#000000\"/>\n",
       "</g>\n",
       "<!-- 5654096248 -->\n",
       "<g class=\"node\" id=\"node18\">\n",
       "<title>5654096248</title>\n",
       "<polygon fill=\"none\" points=\"1263.9257,-73.5 1263.9257,-109.5 1399.2869,-109.5 1399.2869,-73.5 1263.9257,-73.5\" stroke=\"#000000\"/>\n",
       "<text fill=\"#000000\" font-family=\"Times,serif\" font-size=\"14.00\" text-anchor=\"middle\" x=\"1331.6063\" y=\"-87.3\">dense1_insult: Dense</text>\n",
       "</g>\n",
       "<!-- 5645346240&#45;&gt;5654096248 -->\n",
       "<g class=\"edge\" id=\"edge17\">\n",
       "<title>5645346240-&gt;5654096248</title>\n",
       "<path d=\"M1331.6063,-146.4551C1331.6063,-138.3828 1331.6063,-128.6764 1331.6063,-119.6817\" fill=\"none\" stroke=\"#000000\"/>\n",
       "<polygon fill=\"#000000\" points=\"1335.1064,-119.5903 1331.6063,-109.5904 1328.1064,-119.5904 1335.1064,-119.5903\" stroke=\"#000000\"/>\n",
       "</g>\n",
       "<!-- 5654183664 -->\n",
       "<g class=\"node\" id=\"node19\">\n",
       "<title>5654183664</title>\n",
       "<polygon fill=\"none\" points=\"1549.9355,-73.5 1549.9355,-109.5 1727.2771,-109.5 1727.2771,-73.5 1549.9355,-73.5\" stroke=\"#000000\"/>\n",
       "<text fill=\"#000000\" font-family=\"Times,serif\" font-size=\"14.00\" text-anchor=\"middle\" x=\"1638.6063\" y=\"-87.3\">dense1_identity_hate: Dense</text>\n",
       "</g>\n",
       "<!-- 5649059232&#45;&gt;5654183664 -->\n",
       "<g class=\"edge\" id=\"edge18\">\n",
       "<title>5649059232-&gt;5654183664</title>\n",
       "<path d=\"M1638.6063,-146.4551C1638.6063,-138.3828 1638.6063,-128.6764 1638.6063,-119.6817\" fill=\"none\" stroke=\"#000000\"/>\n",
       "<polygon fill=\"#000000\" points=\"1642.1064,-119.5903 1638.6063,-109.5904 1635.1064,-119.5904 1642.1064,-119.5903\" stroke=\"#000000\"/>\n",
       "</g>\n",
       "<!-- 5654266824 -->\n",
       "<g class=\"node\" id=\"node20\">\n",
       "<title>5654266824</title>\n",
       "<polygon fill=\"none\" points=\"76.9776,-.5 76.9776,-36.5 188.235,-36.5 188.235,-.5 76.9776,-.5\" stroke=\"#000000\"/>\n",
       "<text fill=\"#000000\" font-family=\"Times,serif\" font-size=\"14.00\" text-anchor=\"middle\" x=\"132.6063\" y=\"-14.3\">out_toxic: Dense</text>\n",
       "</g>\n",
       "<!-- 5650018712&#45;&gt;5654266824 -->\n",
       "<g class=\"edge\" id=\"edge19\">\n",
       "<title>5650018712-&gt;5654266824</title>\n",
       "<path d=\"M132.6063,-73.4551C132.6063,-65.3828 132.6063,-55.6764 132.6063,-46.6817\" fill=\"none\" stroke=\"#000000\"/>\n",
       "<polygon fill=\"#000000\" points=\"136.1064,-46.5903 132.6063,-36.5904 129.1064,-46.5904 136.1064,-46.5903\" stroke=\"#000000\"/>\n",
       "</g>\n",
       "<!-- 5654437168 -->\n",
       "<g class=\"node\" id=\"node21\">\n",
       "<title>5654437168</title>\n",
       "<polygon fill=\"none\" points=\"360.6031,-.5 360.6031,-36.5 514.6095,-36.5 514.6095,-.5 360.6031,-.5\" stroke=\"#000000\"/>\n",
       "<text fill=\"#000000\" font-family=\"Times,serif\" font-size=\"14.00\" text-anchor=\"middle\" x=\"437.6063\" y=\"-14.3\">out_severe_toxic: Dense</text>\n",
       "</g>\n",
       "<!-- 5652878000&#45;&gt;5654437168 -->\n",
       "<g class=\"edge\" id=\"edge20\">\n",
       "<title>5652878000-&gt;5654437168</title>\n",
       "<path d=\"M437.6063,-73.4551C437.6063,-65.3828 437.6063,-55.6764 437.6063,-46.6817\" fill=\"none\" stroke=\"#000000\"/>\n",
       "<polygon fill=\"#000000\" points=\"441.1064,-46.5903 437.6063,-36.5904 434.1064,-46.5904 441.1064,-46.5903\" stroke=\"#000000\"/>\n",
       "</g>\n",
       "<!-- 5654527392 -->\n",
       "<g class=\"node\" id=\"node22\">\n",
       "<title>5654527392</title>\n",
       "<polygon fill=\"none\" points=\"686.4313,-.5 686.4313,-36.5 814.7813,-36.5 814.7813,-.5 686.4313,-.5\" stroke=\"#000000\"/>\n",
       "<text fill=\"#000000\" font-family=\"Times,serif\" font-size=\"14.00\" text-anchor=\"middle\" x=\"750.6063\" y=\"-14.3\">out_obscene: Dense</text>\n",
       "</g>\n",
       "<!-- 5653831072&#45;&gt;5654527392 -->\n",
       "<g class=\"edge\" id=\"edge21\">\n",
       "<title>5653831072-&gt;5654527392</title>\n",
       "<path d=\"M750.6063,-73.4551C750.6063,-65.3828 750.6063,-55.6764 750.6063,-46.6817\" fill=\"none\" stroke=\"#000000\"/>\n",
       "<polygon fill=\"#000000\" points=\"754.1064,-46.5903 750.6063,-36.5904 747.1064,-46.5904 754.1064,-46.5903\" stroke=\"#000000\"/>\n",
       "</g>\n",
       "<!-- 5654702624 -->\n",
       "<g class=\"node\" id=\"node23\">\n",
       "<title>5654702624</title>\n",
       "<polygon fill=\"none\" points=\"987.04,-.5 987.04,-36.5 1102.1726,-36.5 1102.1726,-.5 987.04,-.5\" stroke=\"#000000\"/>\n",
       "<text fill=\"#000000\" font-family=\"Times,serif\" font-size=\"14.00\" text-anchor=\"middle\" x=\"1044.6063\" y=\"-14.3\">out_threat: Dense</text>\n",
       "</g>\n",
       "<!-- 5653921744&#45;&gt;5654702624 -->\n",
       "<g class=\"edge\" id=\"edge22\">\n",
       "<title>5653921744-&gt;5654702624</title>\n",
       "<path d=\"M1044.6063,-73.4551C1044.6063,-65.3828 1044.6063,-55.6764 1044.6063,-46.6817\" fill=\"none\" stroke=\"#000000\"/>\n",
       "<polygon fill=\"#000000\" points=\"1048.1064,-46.5903 1044.6063,-36.5904 1041.1064,-46.5904 1048.1064,-46.5903\" stroke=\"#000000\"/>\n",
       "</g>\n",
       "<!-- 5654767488 -->\n",
       "<g class=\"node\" id=\"node24\">\n",
       "<title>5654767488</title>\n",
       "<polygon fill=\"none\" points=\"1274.4173,-.5 1274.4173,-36.5 1388.7953,-36.5 1388.7953,-.5 1274.4173,-.5\" stroke=\"#000000\"/>\n",
       "<text fill=\"#000000\" font-family=\"Times,serif\" font-size=\"14.00\" text-anchor=\"middle\" x=\"1331.6063\" y=\"-14.3\">out_insult: Dense</text>\n",
       "</g>\n",
       "<!-- 5654096248&#45;&gt;5654767488 -->\n",
       "<g class=\"edge\" id=\"edge23\">\n",
       "<title>5654096248-&gt;5654767488</title>\n",
       "<path d=\"M1331.6063,-73.4551C1331.6063,-65.3828 1331.6063,-55.6764 1331.6063,-46.6817\" fill=\"none\" stroke=\"#000000\"/>\n",
       "<polygon fill=\"#000000\" points=\"1335.1064,-46.5903 1331.6063,-36.5904 1328.1064,-46.5904 1335.1064,-46.5903\" stroke=\"#000000\"/>\n",
       "</g>\n",
       "<!-- 5654852160 -->\n",
       "<g class=\"node\" id=\"node25\">\n",
       "<title>5654852160</title>\n",
       "<polygon fill=\"none\" points=\"1560.4271,-.5 1560.4271,-36.5 1716.7855,-36.5 1716.7855,-.5 1560.4271,-.5\" stroke=\"#000000\"/>\n",
       "<text fill=\"#000000\" font-family=\"Times,serif\" font-size=\"14.00\" text-anchor=\"middle\" x=\"1638.6063\" y=\"-14.3\">out_identity_hate: Dense</text>\n",
       "</g>\n",
       "<!-- 5654183664&#45;&gt;5654852160 -->\n",
       "<g class=\"edge\" id=\"edge24\">\n",
       "<title>5654183664-&gt;5654852160</title>\n",
       "<path d=\"M1638.6063,-73.4551C1638.6063,-65.3828 1638.6063,-55.6764 1638.6063,-46.6817\" fill=\"none\" stroke=\"#000000\"/>\n",
       "<polygon fill=\"#000000\" points=\"1642.1064,-46.5903 1638.6063,-36.5904 1635.1064,-46.5904 1642.1064,-46.5903\" stroke=\"#000000\"/>\n",
       "</g>\n",
       "</g>\n",
       "</svg>"
      ],
      "text/plain": [
       "<IPython.core.display.SVG object>"
      ]
     },
     "execution_count": 10,
     "metadata": {},
     "output_type": "execute_result"
    }
   ],
   "source": [
    "from IPython.display import SVG\n",
    "from keras.utils.vis_utils import model_to_dot\n",
    "\n",
    "SVG(model_to_dot(input_model).create(prog='dot', format='svg'))"
   ]
  },
  {
   "cell_type": "code",
   "execution_count": 11,
   "metadata": {
    "scrolled": true
   },
   "outputs": [
    {
     "name": "stdout",
     "output_type": "stream",
     "text": [
      "Epoch 1/6\n",
      "159571/159571 [==============================] - 3621s 23ms/step - loss: 1.5557 - out_toxic_loss: 0.3744 - out_severe_toxic_loss: 0.1878 - out_obscene_loss: 0.3258 - out_threat_loss: 0.1782 - out_insult_loss: 0.3076 - out_identity_hate_loss: 0.1819 - out_toxic_binary_accuracy: 0.9235 - out_severe_toxic_binary_accuracy: 0.9771 - out_obscene_binary_accuracy: 0.9443 - out_threat_binary_accuracy: 0.9788 - out_insult_binary_accuracy: 0.9526 - out_identity_hate_binary_accuracy: 0.9872\n",
      "Epoch 2/6\n",
      "159571/159571 [==============================] - 3712s 23ms/step - loss: 0.7685 - out_toxic_loss: 0.2062 - out_severe_toxic_loss: 0.0648 - out_obscene_loss: 0.1817 - out_threat_loss: 0.0758 - out_insult_loss: 0.1566 - out_identity_hate_loss: 0.0834 - out_toxic_binary_accuracy: 0.9477 - out_severe_toxic_binary_accuracy: 0.9861 - out_obscene_binary_accuracy: 0.9650 - out_threat_binary_accuracy: 0.9970 - out_insult_binary_accuracy: 0.9595 - out_identity_hate_binary_accuracy: 0.9861\n",
      "Epoch 3/6\n",
      "159571/159571 [==============================] - 4029s 25ms/step - loss: 0.6693 - out_toxic_loss: 0.1835 - out_severe_toxic_loss: 0.0568 - out_obscene_loss: 0.1661 - out_threat_loss: 0.0510 - out_insult_loss: 0.1413 - out_identity_hate_loss: 0.0706 - out_toxic_binary_accuracy: 0.9525 - out_severe_toxic_binary_accuracy: 0.9855 - out_obscene_binary_accuracy: 0.9695 - out_threat_binary_accuracy: 0.9970 - out_insult_binary_accuracy: 0.9641 - out_identity_hate_binary_accuracy: 0.9843\n",
      "Epoch 4/6\n",
      "159571/159571 [==============================] - 3781s 24ms/step - loss: 0.6067 - out_toxic_loss: 0.1723 - out_severe_toxic_loss: 0.0524 - out_obscene_loss: 0.1504 - out_threat_loss: 0.0369 - out_insult_loss: 0.1318 - out_identity_hate_loss: 0.0629 - out_toxic_binary_accuracy: 0.9559 - out_severe_toxic_binary_accuracy: 0.9861 - out_obscene_binary_accuracy: 0.9712 - out_threat_binary_accuracy: 0.9961 - out_insult_binary_accuracy: 0.9661 - out_identity_hate_binary_accuracy: 0.9867\n",
      "Epoch 5/6\n",
      "159571/159571 [==============================] - 3948s 25ms/step - loss: 0.5395 - out_toxic_loss: 0.1628 - out_severe_toxic_loss: 0.0500 - out_obscene_loss: 0.1126 - out_threat_loss: 0.0307 - out_insult_loss: 0.1258 - out_identity_hate_loss: 0.0577 - out_toxic_binary_accuracy: 0.9577 - out_severe_toxic_binary_accuracy: 0.9863 - out_obscene_binary_accuracy: 0.9743 - out_threat_binary_accuracy: 0.9948 - out_insult_binary_accuracy: 0.9677 - out_identity_hate_binary_accuracy: 0.9881\n",
      "Epoch 6/6\n",
      "159571/159571 [==============================] - 3659s 23ms/step - loss: 0.5130 - out_toxic_loss: 0.1572 - out_severe_toxic_loss: 0.0478 - out_obscene_loss: 0.1040 - out_threat_loss: 0.0289 - out_insult_loss: 0.1211 - out_identity_hate_loss: 0.0540 - out_toxic_binary_accuracy: 0.9592 - out_severe_toxic_binary_accuracy: 0.9864 - out_obscene_binary_accuracy: 0.9763 - out_threat_binary_accuracy: 0.9955 - out_insult_binary_accuracy: 0.9687 - out_identity_hate_binary_accuracy: 0.9888\n",
      "dict_items([('loss', [1.5556577871582262, 0.76851463345923243, 0.66926440007392074, 0.6066699991824831, 0.53951471361102521, 0.51304764425199256]), ('out_toxic_loss', [0.37435486259833295, 0.20619921920437304, 0.18348307420067922, 0.17227695114575031, 0.16278625553673004, 0.15719856603145554]), ('out_severe_toxic_loss', [0.18781380842049766, 0.064790560445808845, 0.056803900008223759, 0.052360144896114638, 0.049961554677168576, 0.047791089805715038]), ('out_obscene_loss', [0.32580236202005108, 0.18171869819257405, 0.16607044435440685, 0.15040102325105631, 0.11259143177699045, 0.10400067135615909]), ('out_threat_loss', [0.17818544306162482, 0.075793011719155798, 0.051047352827272664, 0.036918447429035148, 0.030674772482277381, 0.028936263886689986]), ('out_insult_loss', [0.30763716649397238, 0.15660157505406699, 0.14130947100424102, 0.13183545984537018, 0.12584706548194918, 0.12113003663013615]), ('out_identity_hate_loss', [0.18186414882806562, 0.083411564221980303, 0.070550162288347637, 0.062877972371988153, 0.057653633854464433, 0.053991017660899289]), ('out_toxic_binary_accuracy', [0.9235136710551034, 0.94765966237810917, 0.95251016784992215, 0.95592557559746472, 0.95774294841305285, 0.95915924559687149]), ('out_severe_toxic_binary_accuracy', [0.97714496997421274, 0.98610023126855817, 0.98547355087371602, 0.98608143095297174, 0.98632583621055192, 0.98641983814520573]), ('out_obscene_binary_accuracy', [0.94426932197388358, 0.96499363918799475, 0.96953080446238671, 0.97116017336272287, 0.97429984131093417, 0.97634908604918169]), ('out_threat_binary_accuracy', [0.97878060553734003, 0.99699820142757767, 0.99699193475656878, 0.99606444782419801, 0.99479855364543113, 0.99548163526605982]), ('out_insult_binary_accuracy', [0.95258536953136919, 0.95954152077298049, 0.96408495266421945, 0.96610912998967335, 0.96773849897480091, 0.96867851936573102]), ('out_identity_hate_binary_accuracy', [0.98722825569128181, 0.98605009697749302, 0.98425152436916741, 0.98667051042229881, 0.98807427424878491, 0.98880749010631686])])\n"
     ]
    }
   ],
   "source": [
    "hist = input_model.fit(x=[x, x, x, x, x, x], y=[y[:,0], y[:,1], y[:,2], y[:,3], y[:,4], y[:,5]], epochs=epochs, batch_size=batch_size, shuffle=True)\n",
    "\n",
    "print(hist.history.items())"
   ]
  },
  {
   "cell_type": "code",
   "execution_count": 12,
   "metadata": {},
   "outputs": [],
   "source": [
    "y_pred = input_model.predict(x=[x[0:1000, :], x[0:1000, :], x[0:1000, :], x[0:1000, :], x[0:1000, :], x[0:1000, :]])"
   ]
  },
  {
   "cell_type": "code",
   "execution_count": 34,
   "metadata": {},
   "outputs": [
    {
     "data": {
      "text/plain": [
       "[0.99978775, 0.88482803, 0.98824453, 0.51593781, 0.98502469, 0.93255931]"
      ]
     },
     "metadata": {},
     "output_type": "display_data"
    },
    {
     "name": "stdout",
     "output_type": "stream",
     "text": [
      "(1000, 6)\n"
     ]
    }
   ],
   "source": [
    "cat_max = [np.max(y_p) for y_p in y_pred]\n",
    "\n",
    "display(cat_max)\n",
    "\n",
    "y_pred_labels = np.zeros((y_pred[0].shape[0], len(categories)))\n",
    "print(y_pred_labels.shape)\n",
    "\n",
    "cat_max = np.multiply(cat_max, 0.6)\n",
    "for cmax, i in zip(cat_max, range(len(categories))):\n",
    "    y_pred_labels[np.array(y_pred[i] >= cmax).reshape(-1), i] = 1\n",
    "    y_pred_labels[np.array(y_pred[i] < cmax).reshape(-1), i] = 0\n"
   ]
  },
  {
   "cell_type": "code",
   "execution_count": 32,
   "metadata": {},
   "outputs": [
    {
     "data": {
      "text/plain": [
       "array([[ 0.,  0.,  0.,  0.,  0.,  0.],\n",
       "       [ 0.,  0.,  0.,  0.,  0.,  0.],\n",
       "       [ 0.,  0.,  0.,  0.,  0.,  0.],\n",
       "       ..., \n",
       "       [ 0.,  0.,  0.,  0.,  0.,  0.],\n",
       "       [ 0.,  0.,  0.,  0.,  0.,  0.],\n",
       "       [ 0.,  0.,  0.,  0.,  0.,  0.]])"
      ]
     },
     "metadata": {},
     "output_type": "display_data"
    }
   ],
   "source": [
    "display(y_pred_labels)\n",
    "\n"
   ]
  },
  {
   "cell_type": "code",
   "execution_count": 33,
   "metadata": {},
   "outputs": [
    {
     "data": {
      "text/plain": [
       "0.90800000000000003"
      ]
     },
     "execution_count": 33,
     "metadata": {},
     "output_type": "execute_result"
    }
   ],
   "source": [
    "from sklearn.metrics import accuracy_score\n",
    "accuracy_score(y_train[0:1000,:], y_pred_labels)"
   ]
  },
  {
   "cell_type": "code",
   "execution_count": 16,
   "metadata": {},
   "outputs": [
    {
     "name": "stdout",
     "output_type": "stream",
     "text": [
      "(153164,)\n"
     ]
    }
   ],
   "source": [
    "df_test = pd.read_csv('input/test.csv')\n",
    "\n",
    "x_test = df_test['comment_text']\n",
    "\n",
    "print(x_test.shape)"
   ]
  },
  {
   "cell_type": "code",
   "execution_count": 17,
   "metadata": {},
   "outputs": [
    {
     "name": "stdout",
     "output_type": "stream",
     "text": [
      "153164\n"
     ]
    }
   ],
   "source": [
    "sequences_test = tokenizer.texts_to_sequences(x_test)\n",
    "padded_sequences_test = pad_sequences(sequences=sequences_test, maxlen=max_len, padding='post')\n",
    "\n",
    "print(len(padded_sequences_test))"
   ]
  },
  {
   "cell_type": "code",
   "execution_count": 18,
   "metadata": {},
   "outputs": [],
   "source": [
    "x_test = [padded_sequences_test, padded_sequences_test, padded_sequences_test, padded_sequences_test, padded_sequences_test, padded_sequences_test]\n",
    "\n",
    "y_test_pred = input_model.predict(x=x_test)"
   ]
  },
  {
   "cell_type": "code",
   "execution_count": 19,
   "metadata": {},
   "outputs": [
    {
     "data": {
      "text/plain": [
       "[0.99990189, 0.99314463, 0.99525911, 0.820333, 0.99280989, 0.94049871]"
      ]
     },
     "metadata": {},
     "output_type": "display_data"
    }
   ],
   "source": [
    "y_test_pred_labels = np.zeros((y_test_pred[0].shape[0], len(categories)))\n",
    "\n",
    "test_cat_max = [np.max(y_p) for y_p in y_test_pred]\n",
    "\n",
    "display(test_cat_max)\n"
   ]
  },
  {
   "cell_type": "code",
   "execution_count": 20,
   "metadata": {},
   "outputs": [
    {
     "name": "stdout",
     "output_type": "stream",
     "text": [
      "[ 0.79992151  0.79451573  0.79620731  0.65626639  0.79424793  0.75239897]\n"
     ]
    },
    {
     "data": {
      "text/plain": [
       "array([[ 1.,  0.,  1.,  0.,  1.,  1.],\n",
       "       [ 0.,  0.,  0.,  0.,  0.,  0.],\n",
       "       [ 0.,  0.,  0.,  0.,  0.,  0.],\n",
       "       ..., \n",
       "       [ 0.,  0.,  0.,  0.,  0.,  0.],\n",
       "       [ 0.,  0.,  0.,  0.,  0.,  0.],\n",
       "       [ 1.,  0.,  1.,  0.,  0.,  0.]])"
      ]
     },
     "metadata": {},
     "output_type": "display_data"
    }
   ],
   "source": [
    "threshold = np.multiply(test_cat_max, 0.8)\n",
    "\n",
    "print(threshold)\n",
    "\n",
    "for t, i in zip(threshold, range(len(threshold))):\n",
    "    y_test_pred_labels[np.array(y_test_pred[i] >= t).reshape(-1), i] = 1\n",
    "\n",
    "display(y_test_pred_labels)"
   ]
  },
  {
   "cell_type": "code",
   "execution_count": 35,
   "metadata": {},
   "outputs": [
    {
     "name": "stdout",
     "output_type": "stream",
     "text": [
      "(153164, 7)\n"
     ]
    }
   ],
   "source": [
    "df_submission = pd.DataFrame()\n",
    "df_submission['id'] = df_test['id']\n",
    "for c, i in zip(categories, range(len(categories))):\n",
    "    df_submission[c] = y_test_pred_labels[:, i]\n",
    "   \n",
    "print(df_submission.shape)\n",
    "\n",
    "df_submission.to_csv('output/lstm_6_glve_4B_08_300_6e_adjusted_threshold_submission.csv',index=False)"
   ]
  },
  {
   "cell_type": "code",
   "execution_count": null,
   "metadata": {
    "collapsed": true
   },
   "outputs": [],
   "source": []
  },
  {
   "cell_type": "code",
   "execution_count": null,
   "metadata": {
    "collapsed": true
   },
   "outputs": [],
   "source": []
  }
 ],
 "metadata": {
  "kernelspec": {
   "display_name": "Python 3",
   "language": "python",
   "name": "python3"
  },
  "language_info": {
   "codemirror_mode": {
    "name": "ipython",
    "version": 3
   },
   "file_extension": ".py",
   "mimetype": "text/x-python",
   "name": "python",
   "nbconvert_exporter": "python",
   "pygments_lexer": "ipython3",
   "version": "3.6.4"
  }
 },
 "nbformat": 4,
 "nbformat_minor": 2
}
